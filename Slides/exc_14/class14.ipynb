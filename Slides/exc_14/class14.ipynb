{
 "cells": [
  {
   "cell_type": "markdown",
   "id": "48b91231-7f38-419a-909c-2e274d923a95",
   "metadata": {},
   "source": [
    "<img src=\"ku_logo_uk_v.png\" alt=\"drawing\" width=\"130\" style=\"float:right\"/>\n",
    "\n",
    "# <span style=\"color:#2c061f\"> Last class :'(</span>  \n",
    "\n",
    "<br>\n",
    "\n",
    "## <span style=\"color:#374045\"> Introduction to Programming and Numerical Analysis </span>\n",
    "*Oluf Kelkjær*\n",
    "\n",
    "### **Today's Plan**  \n",
    "1. What can you expect of the exam?  \n",
    "2. Preparing for the exam.  \n",
    "3. How you can go about the exam  \n",
    "4. Hand in  \n",
    "5. Questions  "
   ]
  },
  {
   "cell_type": "markdown",
   "id": "d25febf7-7794-4da6-9fbe-a3fda0756b76",
   "metadata": {
    "tags": []
   },
   "source": [
    "## What can you expect of the exam?  (1/2)\n",
    "Will consist of 3 parts, but what 3 parts?  \n",
    "\n",
    "**2021 exam**:  \n",
    "1. Logit Model (**estimate using maximum likelihood estimator**)   \n",
    "2. Consumption saving with borrowing (**dynamic model**)  \n",
    "3. Division by Newtons method (**algorithm**)  \n",
    "\n",
    "**2020 exam**:  \n",
    "1. Linear Regression (**estimate using various estimators**)   \n",
    "2. Durable Purchases (**dynamic model**)  \n",
    "3. Gradient descent (**algorithm**)  \n",
    "\n",
    "**2019 exam**:\n",
    "1. Human capital accumulation (**dynamic model**)  \n",
    "2. AS-AD model   \n",
    "3. Exchange economy  "
   ]
  },
  {
   "cell_type": "markdown",
   "id": "9f73e961-5268-4bb8-b90c-b86c5be9037c",
   "metadata": {},
   "source": [
    "## What can you expect of the exam?  (2/2)\n",
    "*Historically speaking* there's a good chance of meeting a **dynamic model** in the exam.  \n",
    "**Dynamic models can be quite a mouthful**.  \n",
    "It's a very good idea to have some sort of idea how these are solved. In the **second part of PS7** you are tasked with *solving dynamic models*.\n",
    "Therefore I **highly** recommend that you look at the **second part of PS7** *prior to the exam*.  "
   ]
  },
  {
   "cell_type": "markdown",
   "id": "8a1d0044-5d24-4b3c-96e0-4517d2db30a0",
   "metadata": {},
   "source": [
    "## Preparing for the exam  \n",
    "Solve (or look at) previous exams. This will give you a good idea of what's to be expected of you.  \n",
    "[Old exams (and their solutions) are available online](https://web3.econ.ku.dk/polit/studerende/eksamen/opgrv/cms-ku/english.asp?del=kand&fag_id=281&fagnavn=Introduction%20to%20Programming%20and%20Numerical%20Analysis)  \n",
    "\n",
    "Try to get an **overview** of which *Lectures, PS* or *old exams* might serve as **inspiration** for different problems.  \n",
    "\n",
    "**Revise your old projects!** They may be able to *save you*, should you hand in a \"bad\" exam."
   ]
  },
  {
   "cell_type": "markdown",
   "id": "827af573-689f-42ec-b9a4-10c2be441f94",
   "metadata": {},
   "source": [
    "## How you can go about the exam  \n",
    "**Speed-run**:\n",
    "1) Spend the first moments **discussing** what could be the approach of each part.   \n",
    "This can be done by sharing experience and *digging out the Lectures, Problem Sets and previous exam solutions* which could serve as **inspiration** for the each part.  \n",
    "2) **Divide the responsibility** such that each member is responsible for the part in which they are most confident.  \n",
    "3) Work in **individual notebooks** wherein each part is solved independently.  \n",
    "Note that it can become a mess merging these notebooks, if you use the same variable names!!  \n",
    "\n",
    "You have **48 hours** to solve a new assignment which takes **approximately 24 hours**, *no need to speedrun*.  \n",
    "If you aren't confident that you can solve a part on your own, then it's probably best that you work together. Be careful that you wont become too many chefs in the kitchen though :)  \n",
    "\n",
    "\n",
    "* Note! First impressions also applies to coding. Keep your notebook clean! Spend time on your figures and code-structure.  \n",
    "\n",
    "* Remember it's 48 hours - sometimes epiphanies appear during a break.  "
   ]
  },
  {
   "cell_type": "markdown",
   "id": "d448122c-1e9b-4dc5-8bcf-7020651bcf6d",
   "metadata": {},
   "source": [
    "## Hand in  \n",
    "All relevant information should be in the exam description.\n",
    "\n",
    "It will look like this:"
   ]
  },
  {
   "cell_type": "markdown",
   "id": "50c0e86e-ac3c-483c-9e38-d16f2688869f",
   "metadata": {},
   "source": [
    "## Questions  \n",
    "Any **general questions**?\n",
    "\n",
    "**Individual questions**?"
   ]
  }
 ],
 "metadata": {
  "kernelspec": {
   "display_name": "Python 3 (ipykernel)",
   "language": "python",
   "name": "python3"
  },
  "language_info": {
   "codemirror_mode": {
    "name": "ipython",
    "version": 3
   },
   "file_extension": ".py",
   "mimetype": "text/x-python",
   "name": "python",
   "nbconvert_exporter": "python",
   "pygments_lexer": "ipython3",
   "version": "3.10.2"
  }
 },
 "nbformat": 4,
 "nbformat_minor": 5
}
