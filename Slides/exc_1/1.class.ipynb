{
 "cells": [
  {
   "cell_type": "markdown",
   "id": "ab5999cb-346e-45b6-94ff-a163b273a2da",
   "metadata": {
    "slideshow": {
     "slide_type": "slide"
    }
   },
   "source": [
    "<img src=\"ku_logo_uk_v.png\" alt=\"drawing\" width=\"130\" style=\"float:right\"/>\n",
    "\n",
    "# <span style=\"color:#2c061f\"> Intro Class </span>  \n",
    "\n",
    "<br>\n",
    "\n",
    "## <span style=\"color:#374045\"> Introduction to Programming and Numerical Analysis </span>\n",
    "*Oluf Kelkjær*\n",
    "\n",
    "### **Today's Plan**  \n",
    "1. Welcome!\n",
    "2. Class structure\n",
    "3. Installing Anaconda and Git\n",
    "4. Downloading slides and excercises using Git\n",
    "5. DataCamp"
   ]
  },
  {
   "cell_type": "markdown",
   "id": "f7c948e2-e4af-4996-b4cf-f9a6fb708b1d",
   "metadata": {
    "slideshow": {
     "slide_type": "slide"
    },
    "tags": []
   },
   "source": [
    "### **Welcome!**\n",
    "**Full name:** Oluf Kelkjær  \n",
    "**Current position:** at Metroselskabet I/S, passengerdata, revenuedata and Travelcard-data, mainly in **R**  \n",
    "**Study:** last semester of MSc in Economics, writing my Master Thesis on *Metro-station effect on housing prices in Copenhagen*  \n",
    "\n",
    "\n",
    "Will send you a **survey** in order to get to know you guys better (later today or tomorrow)!"
   ]
  },
  {
   "cell_type": "markdown",
   "id": "bacada30-d1d5-4d7a-a4a9-eb031619dc3e",
   "metadata": {
    "slideshow": {
     "slide_type": "slide"
    }
   },
   "source": [
    "### **Class structure**\n",
    "Classes will be used to work on **problem sets** and **projects**.  \n",
    "* We meet **physically** with a possibility to follow along on **MS Teams** for those **prevented from participating physically**!\n",
    "* You can create your own **private channel** in Class 3 Teams\n",
    "* Questions or help can be requested in the **general chat**\n",
    "    - e.g. 'Group xx - physically' or 'Group xy - Teams/cyberspace'  \n",
    "    Then I'll join you in class or in your Teams Group room asap.      \n",
    "    - That way we have some sort of *queue structure*  \n",
    "    \n",
    "When you have found a group, please jump into the 'group.xlsx'-file in the **Lecture MS Teams channel** and fill out your group name.  \n",
    "**Highly recommend you find a group!** There's an announcement on Absalon for those seeking group members."
   ]
  },
  {
   "cell_type": "markdown",
   "id": "1397ef9d-4c89-4cc6-b1e2-b343a3ee0c9a",
   "metadata": {
    "slideshow": {
     "slide_type": "slide"
    }
   },
   "source": [
    "### **Installing Anaconda and Git**  \n",
    "Nice installation guide on the [course website](https://numeconcopenhagen.netlify.app/guides/python-setup/)  \n",
    "**Complete steps 1-3** (step 4 - *VSCode* is so far optional?) **today** or until next time, we want to hit the ground running.  \n",
    "\n",
    "**Mac-users note** that when downloading Git you are faced with multiple options.  \n",
    "According to Mac TA's the **binary installer** by **Tim Harper** is the *easiest*.\n",
    "\n",
    "**Windows-users note** that when downloading the variable inspector you should probably use the `conda` command\n",
    "\n",
    "When steps 1-3 is completed, you will be able to download **excercise sets** as well as **lecture slides** using *Git* in *JupyterLab*!"
   ]
  },
  {
   "cell_type": "markdown",
   "id": "6d41acc4-1a26-4a26-906f-2a02c888d0f3",
   "metadata": {
    "slideshow": {
     "slide_type": "slide"
    }
   },
   "source": [
    "### **What is Git?**  \n",
    "Git (*Version-Control system*) stores 2 parts of information when working on a project:\n",
    "1. Files of interest\n",
    "2. The extra information about the projects history - *what* changed, *who* changed it and *why*  \n",
    "\n",
    "This makes Git a great foundation for **code-sharing** and **collaboration** - if passed to Git, no version is ever lost.  \n",
    "\n",
    "\n",
    "These 2 parts combined makes a **repository**.  \n",
    "One such **repository** is for example the [Lecture slides](https://github.com/NumEconCopenhagen/lectures-2022) or the [Excercise sets](https://github.com/NumEconCopenhagen/exercises-2022) located on GitHub.  \n",
    "\n",
    "**Lets download the slides and excercises** :)  \n",
    "\n",
    "\n",
    "You will learn a lot more about Git in the DataCamp assignment **Introduction to Git**.\n"
   ]
  },
  {
   "cell_type": "markdown",
   "id": "5d034e4c-e254-46e6-b6c5-617c97454b8c",
   "metadata": {
    "slideshow": {
     "slide_type": "slide"
    }
   },
   "source": [
    "### **DataCamp**\n",
    "Nice learning site for various programming languages!\n",
    "You have 4 DataCamp \"assignments\":\n",
    "1. **Introduction to Python**\n",
    "2. **Intermediate Python**\n",
    "3. **Introduction to Git**  \n",
    "4. **Python Data Science Toolbox (part I)**  "
   ]
  },
  {
   "cell_type": "markdown",
   "id": "607712b9-b048-4d48-9e2f-4f5bde142da1",
   "metadata": {
    "slideshow": {
     "slide_type": "slide"
    }
   },
   "source": [
    "### **Let's get to it**  \n",
    "To-do:\n",
    "* Fill out 'groups.xlsx'-file in Lectures MS Teams channel \n",
    "* Install Anaconda and Git\n",
    "* Download Lecture Slides and Excercises using Git\n",
    "* DataCamp\n",
    "\n",
    "Have your break when you deem fit.  \n",
    "Meet again at 16:55"
   ]
  },
  {
   "cell_type": "markdown",
   "id": "650fe8bc-c8c0-4a98-8e0c-f2ca7409033c",
   "metadata": {
    "slideshow": {
     "slide_type": "slide"
    }
   },
   "source": [
    "### **Thank you for today!**\n",
    "**Until next time**:\n",
    "* Answered the survey\n",
    "* Completed installation steps 1-3 as well as downloaded the course material (Lecture Slides and Excercises)\n",
    "\n",
    "**Next time**:\n",
    "* We will work on DataCamp\n",
    "\n",
    "\n",
    "**Excercise Plan**  (*tentative*)  \n",
    "1. **DataCamp**  \n",
    "2. DataCamp\n",
    "3. DataCamp\n",
    "4. Problem Set 1: Solving the consumer problem\n",
    "5. Problem Set 2: Finding the Walras equilibrium in a multi-agent economy \n",
    "6. Work on your inaugural project\n",
    "7. Problem Set 3: Loading and combining data from Denmark Statistics \n",
    "8. Problem Set 4: Analyzing data\n",
    "9. Work on your data project\n",
    "10. Problem Set 5: Writing your own searching and sorting algorithms \n",
    "11. Problem Set 6: Solving the Solow model\n",
    "12. Problem Set 7: Solving the consumer problem with income risk \n",
    "13. Work on your model analysis project\n",
    "14. Work on your model analysis project \n",
    "15. Feedback on model project\n",
    "\n",
    "**Deadline for DataCamp is 27/2-22**"
   ]
  },
  {
   "cell_type": "markdown",
   "id": "c552f89d",
   "metadata": {
    "slideshow": {
     "slide_type": "slide"
    }
   },
   "source": [
    "Have Git not asked for your GitHub credentials yet?  \n",
    "In Anaconda (Windows) or terminal (Mac):  \n",
    "`git config --list` check that username and email is correct.\n",
    "\n",
    "\n",
    "If not:  \n",
    "`git config --global user.name \"JensHansen\"`  \n",
    "and/or  \n",
    "`git config --global user.email jenshansen@mail.com`"
   ]
  }
 ],
 "metadata": {
  "celltoolbar": "Slideshow",
  "kernelspec": {
   "display_name": "Python 3 (ipykernel)",
   "language": "python",
   "name": "python3"
  },
  "language_info": {
   "codemirror_mode": {
    "name": "ipython",
    "version": 3
   },
   "file_extension": ".py",
   "mimetype": "text/x-python",
   "name": "python",
   "nbconvert_exporter": "python",
   "pygments_lexer": "ipython3",
   "version": "3.8.12"
  }
 },
 "nbformat": 4,
 "nbformat_minor": 5
}
