{
 "cells": [
  {
   "cell_type": "markdown",
   "metadata": {},
   "source": [
    "![alt text](ku_logo_uk_v.png \"KU-logo\")"
   ]
  },
  {
   "cell_type": "markdown",
   "metadata": {},
   "source": [
    "# Intro class\n",
    "\n",
    "## Introduction to Programming and Numerical Analysis  \n",
    "*Oluf Kelkjær*"
   ]
  },
  {
   "cell_type": "markdown",
   "metadata": {},
   "source": [
    "### **Today's plan:**\n",
    "1. Welcome\n",
    "2. This course and what to expect\n",
    "3. Plan for online teaching\n",
    "4. Getting help\n",
    "5. Excercise plan"
   ]
  },
  {
   "cell_type": "markdown",
   "metadata": {},
   "source": [
    "### **About me**\n",
    "\n",
    "**Full name:** Oluf Kelkjær  \n",
    "**Current position:** at Metroselskabet I/S, passengerdata, revenuedata and Travelcard-data, mainly in **R**  \n",
    "**Study:** last semester of MSc in Economics, writing my Master Thesis on *Metro-station effect on housing prices in Copenhagen*  \n",
    "\n",
    "Have had several Python-related **Courses** at KU, such as,\n",
    "* Introduction to Social Data Science \n",
    "    * Intense 2,5 week summer-course.  \n",
    "    **Learn about** basics of Python, Scraping, Machine Learning and *more*\n",
    "* Financial Econometrics\n",
    "    * **Learn about**  \n",
    "* Dynamic Programming  \n",
    "    * **Heavy-hitting** course where Python experience is recommended.\n",
    "    * **Learn about** solution methods for dynamic models e.g. consumption with income risk\n",
    "* Advanced Microeconometrics  \n",
    "    * **Learn about** Fixed Effects (FE), Random Effects (RE), First Differences (FD), Logit, Probit, Tobit, semi-parametric and non-parametric estimation among others\n",
    "\n",
    "And of course Introduction to Programming and Numerical Analysis...\n",
    "\n"
   ]
  },
  {
   "cell_type": "markdown",
   "metadata": {},
   "source": [
    "### **What to expect of Introduction to Programming and Numerical Analysis**  \n",
    "Like most courses you will leave **lectures** with some *knowledge*. In **classes** you will develop *skills* using that *knowledge*. In the **assignments** and ultimately the **exam**, you will apply those *skills* and thereby demonstrate *competencies*.  \n",
    "\n",
    "This course requires alot from you guys, get your hands dirty  \n",
    "Recommend being in a group  \n",
    "There are a lot of different ways to approach and solve a problem.\n",
    " "
   ]
  },
  {
   "cell_type": "markdown",
   "metadata": {},
   "source": [
    "### **Getting Help**\n",
    "* Cheer up! Syntax is difficult to memorize and mistakes will be made.  \n",
    "* Get comfortable using google ([stackoverflow](https://stackoverflow.com/questions/25692293/inserting-a-link-to-a-webpage-in-an-ipython-notebook), [geekforgeeks](https://www.geeksforgeeks.org/markdown-cell-in-jupyter-notebook/#:~:text=%5BSection%20title%5D(%23division_ID)), etc.) and code-documentation `?print`\n",
    "    * Oftentimes you aren't the only one with a given problem\n",
    "* Stuck in some problem? Let me know, I'll do my best to help!"
   ]
  },
  {
   "cell_type": "code",
   "execution_count": 5,
   "metadata": {},
   "outputs": [
    {
     "name": "stdout",
     "output_type": "stream",
     "text": [
      "\u001b[1;31mDocstring:\u001b[0m\n",
      "print(value, ..., sep=' ', end='\\n', file=sys.stdout, flush=False)\n",
      "\n",
      "Prints the values to a stream, or to sys.stdout by default.\n",
      "Optional keyword arguments:\n",
      "file:  a file-like object (stream); defaults to the current sys.stdout.\n",
      "sep:   string inserted between values, default a space.\n",
      "end:   string appended after the last value, default a newline.\n",
      "flush: whether to forcibly flush the stream.\n",
      "\u001b[1;31mType:\u001b[0m      builtin_function_or_method\n"
     ]
    }
   ],
   "source": [
    "?print"
   ]
  },
  {
   "cell_type": "markdown",
   "metadata": {},
   "source": [
    "### **Excercise Plan**  \n",
    "**Week 6: DataCamp**   \n",
    "**Week 7:** DataCamp  \n",
    "**Week 8:** DataCamp  \n",
    "**Week 9:** PS 1: Solving the consumer problem  \n",
    "**Week 10:** PS 2: Finding the Walras equilibrium in a multi-agent economy  \n",
    "**Week 11:** Work on your Inaugural Project  \n",
    "**Week 12:** PS 3: Loading and combining data from Denmark Statistics  \n",
    "**Week 13:** PS 4: Analyzing data  \n",
    "**Week 14:** Work on your Data Project  \n",
    "**Week 15:** Problem Set 5: Writing your own searching and sorting algorithms  \n",
    "**Week 16:** Problem Set 6: Solving the Solow model  \n",
    "**Week 17:** Problem Set 7: Solving the consumer problem with income risk  \n",
    "**Week 18:** Work on your model analysis project  \n",
    "**Week 19:** Work on your model analysis project  \n",
    "**Week 20:** Potential Q&A  \n",
    "\n",
    "**Deadline for DataCamp is 27/2-22**\n"
   ]
  },
  {
   "cell_type": "markdown",
   "metadata": {},
   "source": [
    "### What did we learn today?\n"
   ]
  },
  {
   "cell_type": "markdown",
   "metadata": {},
   "source": [
    "### **DataCamp**\n",
    "Nice learning site for various programming languages!\n",
    "You have 2 DataCamp \"assignments\":\n",
    "1. **Introduction to Python**\n",
    "    We need to learn to walk before we run!\n",
    "2. **Intermediate Python**\n",
    "    Learn about...\n",
    "3. **Introduction to Git**  \n",
    "   We will use **GitHub** which is based on the **Git**.  \n",
    "   Git, being a **version control system**, will let you keep *track of changes* in your **code** and allow you to *collaborate* with your group **efficiently**.  \n",
    "   Last year GitHub posed some *issues*. Learning Git commands will hopefully *alleviate these issues*!  \n",
    "4. **Python Data Science Toolbox (part I)**  \n",
    "   We need to learn to walk before we run!  \n",
    "   You will learn to write function and handle errors\n",
    "   \n",
    "   "
   ]
  },
  {
   "cell_type": "markdown",
   "metadata": {},
   "source": [
    "All of the excercises and slides of this course is stored at GitHub.\n",
    "GitHub is the home of a lot of cool open source programs, e.g. xx, xx and xx.\n",
    "**Fun fact** GitHub has stored all actively used repositories as of 2/2-20 in an arctic vault 250 meters under the permafrost in Svalbard, Norway."
   ]
  },
  {
   "cell_type": "markdown",
   "metadata": {},
   "source": [
    "## **Introduction to Git** - Chapter 1  \n",
    "### What is repository?\n",
    "Git stores 2 parts when working on a project:\n",
    "1. The files and directory in which you make changes\n",
    "2. The extra information about the projects history  \n",
    "These two things combined is called a repository.\n",
    "\n",
    "  \n",
    "**Staging:** putting changed files in a box  \n",
    "**Committing:** putting that box in the mail  \n",
    "\n",
    "**Commands:**  \n",
    "`git status` shows you which files are in staging area and which (editted) files are not yet in staging area  \n",
    "`git diff` shows changes in the repository  \n",
    "`git diff directory` shows changes in a given directory  \n",
    "`git diff filename` compare the file to when it was last saved.  \n",
    "\n",
    "*Diff output*:  \n",
    "`a` means first version and `b` means second version.  \n",
    "`-` means lines removed while `+` means lines added.  \n",
    "`@@` tells you where changes are being made. First number displays at which line changes were made wille the second number tells you which how many lines where changed, e.g. `-1,4 +1,5` implies changes starting at line 1, with 5 lines where there were once 4.  \n",
    "\n",
    "\n",
    "`git add filename` add file to staging area.  \n",
    "`git diff -r HEAD` compare files to staging area, `-r` means particular revision and `HEAD` means the most recent commit.  \n",
    "`git diff -r HEAD path/to/file` can be used for a specific file.  \n",
    "\n",
    "\n",
    "**Not as important:**\n",
    "`nano names.txt` to create or edit a certain file. nano is a text editor in which you can edit txt-files and sometimes python files.  \n",
    "\n",
    "\n",
    "When committing changes Git requires some **log message** a.k.a **commit message**. This serves as a help for you and your group.\n",
    "\n",
    "`git commit -m \"some message in quotations` will let you commit changes with the log message \"some message in quotations\"  \n",
    "`git commit --amend - m \"new message\"` where `--amend` will let you change commit message.  \n",
    "`git log` will let you view the log of the projects history. Where *commit* will show the unique commit ID a.k.a a *hash*. Use space to go through pages and q-key in order to quit.  \n",
    "`git log path` lets you view log in a certain path, e.g. a subfolder or a file.  \n",
    "`git log -3 path` lets you view the 3 latest commits of some subfolder or file.  \n",
    "\n",
    "\n",
    "## **Introduction to Git** - Chapter 2\n",
    "Git storing information in a three-level structure.  \n",
    "1. A **commit** with a unique ID, containing data such as author, commit message and time of commit.\n",
    "2. Each commit has a **tree** tracking names and locations when commit happened. Could be multiple files changes in one commit.\n",
    "3. For each file in the *tree* there is a **blob** (**b**inary **l**arge **ob**ject - can contain data of any kind). The blob contains snapshots of the files when commit happened.  \n",
    "\n",
    "\n",
    "**pseudo-random number generator** a.k.a a hash funtion. Same file? then it has the same hash. Git thereby efficiently compares hashes and not the actual file.  \n",
    "Go into subdirectory? **subdirectory/**  \n",
    "\n",
    "\n",
    "`git show xxxxxx` shows the git message using the first 6 characters of a given commit hash.  \n",
    "`HEAD~1` is like a relative path the the second most recent commit.  \n",
    "`HEAD~2` is a relative path to the commit before that  \n",
    "`git annotate file` will display who made changes to which lines of a file and when. Specifically 5 elements will be spit out. First element is first eight digits of the hash, second element is author, third element is time of commit, fourth element is which line was changed and fifth is the contents of that line.\n",
    "\n",
    "\n",
    "`git diff HEAD..HEAD~1` shows the difference between the most recent commit and the second most recent commit. Can also be used using the commit hashes.  \n",
    "\n",
    "\n",
    "Only when files are staged or added will git track changes and store information about the files!  \n",
    "`git status` will let you know which files in your repository isn't being tracked for changes.  \n",
    "\n",
    "\n",
    "The .gitignore-file will contain info on files to not keep track of changes. `*.mpl` will ignore changes to all .mpl-files and `build` will ignore all changes to files or directories called build.  \n",
    "\n",
    "`git clean -n` will show you a list of files that are in the repository, but whose history Git is not currently tracking.  \n",
    "`git clean -f` will then delete those files. `git clean` *only* works for untracked files.  \n",
    "\n",
    "`git config --list` will let you access git settings,  \n",
    "* `--system` settings for every user on computer  \n",
    "* `--global` settings for every one on your projects  \n",
    "* `--local` settings for one specific project\n",
    "\n",
    "**local** (per-project) precedes **global** (per-user) and **global** overwrites **system** (per-computer).  \n",
    "\n",
    "`git config --global setting value` allows you to set some value (change settings), e.g. `git config --global user.email rep.loop@datacamp.com` sets the user email for all your projects to rep.loop@datacamp.com  \n",
    "`git reset HEAD` undo the latest stage, in case you have staged the wrong file(s).  \n",
    "\n",
    "`git checkout -- filename` lets you undo changes in **unstaged** file(s).  \n",
    "`git reset HEAD path/to/file` and `git checkout -- path/to/file` lets you undo changes to **staged** file(s).  \n",
    "`git checkout 2242bd report.txt` restores and replaces current version of report.txt with the version noted by the has 2242bd.  \n",
    "`git reset` will simply unstage all files from latest staged changes as `HEAD` is default argument.  \n",
    "`git checkout -- report.txt` restores and replaces current version of report.txt with previous state.  \n",
    "`git checkout -- .` does the above, but for all files in current directory.  \n",
    "\n",
    "\n",
    "### What is a **branch**?\n",
    "Branches is like a parallel universe, changes in one branch doesn't affect the other. Different branches allows you to keep track of different versions of your work.  \n",
    "`git branch` displays all branches in a given repository.  \n",
    "`git diff branch-1..branch-2` displays the differences between 2 branches.  \n",
    "`git checkout branch-1` will let you go to branch-1, but only if all changes in current branch has been committed.  \n",
    "`git rm file` lets you remove file and stage that removal in one step.\n",
    "`git checkout -b branch-name` will let you create and move to a new branch.  \n",
    "\n",
    "\n",
    "Mergin two branches require a source branch and a destination branch. All non-overlapping changes will all get merged into the destination branch.  \n",
    "`git merge source destination` merges source into destination branch.  \n",
    "`git init project-name` create new repository in current directory. Beware of creating repositories within repositories (nested repositories) as they become complicated.  \n",
    "`git init /path/to/project` allows you to create repository based on project - can also use `git init` if you currently already are in the project's root directory.  \n",
    "`git clone URL` clones repository located in a given URL.  \n",
    "`git remove -v` will show you where your repository originates from.  \n",
    "`git remote add remote-name URL` lets you add a remote in current location.  \n",
    "`git remote rm remote-name` removes existing remote from current location.  \n",
    "\n",
    "\n",
    "`git pull remote branch` lets you pull the the latest update from **branch** in the *repository* identified as **remote**.  \n",
    "`git push remote branch` lets you push the lastest local changes in *repository* identified as **remote** in the *branch* called **branch**.  \n",
    "\n",
    "\n",
    "\n",
    "**Pulling** essentially pulls (*downloads*) the latest changes *from* some a given repository.  \n",
    "**Pushing** essentially pushes (*uploads*) the latest changes *to* a given repository.  \n",
    "\n",
    "**Note**: you can't pull when you have unsaved work.  \n",
    "This is **fixed** by either reverting or committing the local unsaved work and then pull once again.  \n",
    "\n",
    "In order to avoid overwriting your own or someone else's work, Git wont allow you to push changes to a remote repository unless you have merged contents of that remote repository into you own work. This means if there is a more up-to-date version in the remote repository, you wont be able to push changes you have made locally.  \n",
    "**Fixing** this requires you to first pull contents, deal with potential merge conflicts and then you can push changes.\n"
   ]
  },
  {
   "cell_type": "code",
   "execution_count": null,
   "metadata": {},
   "outputs": [],
   "source": []
  }
 ],
 "metadata": {
  "interpreter": {
   "hash": "f7cd1a4154777427ae67a90491f84c4e970133b1a03d8e46b94d68c7a5bf1298"
  },
  "kernelspec": {
   "display_name": "Python 3 (ipykernel)",
   "language": "python",
   "name": "python3"
  },
  "language_info": {
   "codemirror_mode": {
    "name": "ipython",
    "version": 3
   },
   "file_extension": ".py",
   "mimetype": "text/x-python",
   "name": "python",
   "nbconvert_exporter": "python",
   "pygments_lexer": "ipython3",
   "version": "3.8.12"
  }
 },
 "nbformat": 4,
 "nbformat_minor": 4
}
