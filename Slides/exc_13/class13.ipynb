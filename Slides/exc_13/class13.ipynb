{
 "cells": [
  {
   "cell_type": "markdown",
   "id": "warming-forwarding",
   "metadata": {
    "slideshow": {
     "slide_type": "slide"
    }
   },
   "source": [
    "<img src=\"ku_logo_uk_v.png\" alt=\"drawing\" width=\"130\" style=\"float:right\"/>\n",
    "\n",
    "# <span style=\"color:#2c061f\"> Model Project (1/2)</span>  \n",
    "\n",
    "<br>\n",
    "\n",
    "## <span style=\"color:#374045\"> Introduction to Programming and Numerical Analysis </span>\n",
    "*Oluf Kelkjær*\n",
    "\n",
    "### **Today's Plan**  \n",
    "1. Model Project \n",
    "    * Contents\n",
    "    * What to model?\n",
    "    * Let's go! :)"
   ]
  },
  {
   "cell_type": "markdown",
   "id": "e64eee98-4a67-4945-9e43-28ff8240b26a",
   "metadata": {
    "slideshow": {
     "slide_type": "slide"
    }
   },
   "source": [
    "## Model Project  \n",
    "Last project before the exam!  \n",
    "You will also work on the model project *next excercise class* (10th May).  \n",
    "**Hand-in**: 13th of May.  \n",
    "\n",
    "There's no peer-feedback, but you will receive feedback from me :)"
   ]
  },
  {
   "cell_type": "markdown",
   "id": "7390bef4-2a92-45a6-9859-63bca6aff18a",
   "metadata": {
    "slideshow": {
     "slide_type": "slide"
    }
   },
   "source": [
    "## Model Project - contents  \n",
    "Keep the **contents** in mind!\n",
    "1. Describe an algorithm on how to solve a simple economic model (L09 & L10)\n",
    "2. Solve (and perhaps simulate) a simple economic model\n",
    "3. Visualize how the solution changes across parametrizations. Important task!\n",
    "4. Analyze one or more extensions of the baseline model\n",
    "\n",
    "**Code outline could look like**:\n",
    "* Use `sympy` to describe model as well as solve **analytically**.  \n",
    "* Use `scipy` to solve model **numerically**  \n",
    "* Use `matplotlib` and/or `widgets` to:\n",
    "    - Present results  \n",
    "    - Check what happens for different values of some parameter - **sanity check**!\n",
    "* Use `numpy` for simulations\n",
    "\n",
    "When you solve the model **numerically**, it's *very good idea* to solve it **analytically** as well!  \n",
    "This serves as a **validation** of the numerically obtained results!\n",
    "\n",
    "\n",
    "**Note that:** `sympy` should play a *minor role* in the project"
   ]
  },
  {
   "cell_type": "markdown",
   "id": "common-istanbul",
   "metadata": {
    "slideshow": {
     "slide_type": "slide"
    }
   },
   "source": [
    "## Model Project - What to model?\n",
    "**Model idea's**:\n",
    "* PAYG vs. OLG model    \n",
    "* Cournot  \n",
    "* Robinson Crusoe  \n",
    "* Ramsey  \n",
    "\n",
    "Any economic model you've met, you can model.  \n",
    "I'd *recommend* sticking with your favorite model (**a model you know**).  \n",
    "\n",
    "I can *help* you with the **code**, however I'm *not* a wandering model-encyclopedia :'(  \n",
    "Dont pick a model you can't solve (*analytically*) - I wont be of much help.  \n",
    "\n",
    "From project description:   \n",
    "**\"It is better to have a rather simple but well-tested model with nice visualization and simulation compared to a larger model that does not suceed entirely\"**"
   ]
  },
  {
   "cell_type": "markdown",
   "id": "12cb691d-9227-482b-9689-34aa763e4bef",
   "metadata": {
    "slideshow": {
     "slide_type": "slide"
    }
   },
   "source": [
    "## Let's go! :)"
   ]
  },
  {
   "cell_type": "code",
   "execution_count": 2,
   "id": "be2c0552",
   "metadata": {},
   "outputs": [
    {
     "data": {
      "text/latex": [
       "$\\displaystyle - \\frac{1}{2}$"
      ],
      "text/plain": [
       "-1/2"
      ]
     },
     "execution_count": 2,
     "metadata": {},
     "output_type": "execute_result"
    }
   ],
   "source": [
    "import sympy as sm\n",
    "\n",
    "x = sm.symbols('x') \n",
    "y = sm.symbols('y')\n",
    "equ = sm.Eq(x+1,x)\n",
    "sm.solve(x+1,x)\n",
    "xx = x+x\n",
    "xxx = sm.Eq(xx,x)\n",
    "sm.solve(xxx,x)[0]\n",
    "xxx\n",
    "sm.solve(x+x+1,x)[0]"
   ]
  },
  {
   "cell_type": "code",
   "execution_count": 5,
   "id": "fa0b6f1f",
   "metadata": {},
   "outputs": [
    {
     "data": {
      "text/latex": [
       "$\\displaystyle - z + z^{\\alpha} \\left(\\left(g + 1\\right) \\left(n + 1\\right)\\right)^{- \\beta} \\left(s + z \\left(1 - \\delta\\right)\\right)^{1 - \\alpha}$"
      ],
      "text/plain": [
       "-z + z**alpha*(s + z*(1 - delta))**(1 - alpha)/((g + 1)*(n + 1))**beta"
      ]
     },
     "execution_count": 5,
     "metadata": {},
     "output_type": "execute_result"
    }
   ],
   "source": [
    "z = sm.symbols('z')\n",
    "alpha = sm.symbols('alpha')\n",
    "s = sm.symbols('s')\n",
    "delta = sm.symbols('delta')\n",
    "g = sm.symbols('g')\n",
    "n = sm.symbols('n')\n",
    "beta = sm.symbols('beta')\n",
    "f = z**alpha\n",
    "# ss = sm.Eq(z,(s+z*(1-delta))**(1-alpha)*f/(((1+g)*(1+n))**beta))\n",
    "ss = (s+z*(1-delta))**(1-alpha)*f/(((1+g)*(1+n))**beta)-z\n",
    "ss"
   ]
  },
  {
   "cell_type": "code",
   "execution_count": 17,
   "id": "68d207ac",
   "metadata": {},
   "outputs": [
    {
     "ename": "NotImplementedError",
     "evalue": "multiple generators [z, (-delta*z + s + z)**(-alpha), z**alpha]\nNo algorithms are implemented to solve equation -z + z**alpha*(s + z*(1 - delta))**(1 - alpha)/((g + 1)*(n + 1))**beta",
     "output_type": "error",
     "traceback": [
      "\u001b[1;31m---------------------------------------------------------------------------\u001b[0m",
      "\u001b[1;31mNotImplementedError\u001b[0m                       Traceback (most recent call last)",
      "Input \u001b[1;32mIn [17]\u001b[0m, in \u001b[0;36m<cell line: 1>\u001b[1;34m()\u001b[0m\n\u001b[1;32m----> 1\u001b[0m zss \u001b[38;5;241m=\u001b[39m \u001b[43msm\u001b[49m\u001b[38;5;241;43m.\u001b[39;49m\u001b[43msolve\u001b[49m\u001b[43m(\u001b[49m\u001b[43mss\u001b[49m\u001b[43m,\u001b[49m\u001b[43mz\u001b[49m\u001b[43m)\u001b[49m[\u001b[38;5;241m0\u001b[39m]\n",
      "File \u001b[1;32m~\\anaconda3\\envs\\IPNA\\lib\\site-packages\\sympy\\solvers\\solvers.py:1106\u001b[0m, in \u001b[0;36msolve\u001b[1;34m(f, *symbols, **flags)\u001b[0m\n\u001b[0;32m   1102\u001b[0m \u001b[38;5;66;03m#\u001b[39;00m\n\u001b[0;32m   1103\u001b[0m \u001b[38;5;66;03m# try to get a solution\u001b[39;00m\n\u001b[0;32m   1104\u001b[0m \u001b[38;5;66;03m###########################################################################\u001b[39;00m\n\u001b[0;32m   1105\u001b[0m \u001b[38;5;28;01mif\u001b[39;00m bare_f:\n\u001b[1;32m-> 1106\u001b[0m     solution \u001b[38;5;241m=\u001b[39m _solve(f[\u001b[38;5;241m0\u001b[39m], \u001b[38;5;241m*\u001b[39msymbols, \u001b[38;5;241m*\u001b[39m\u001b[38;5;241m*\u001b[39mflags)\n\u001b[0;32m   1107\u001b[0m \u001b[38;5;28;01melse\u001b[39;00m:\n\u001b[0;32m   1108\u001b[0m     solution \u001b[38;5;241m=\u001b[39m _solve_system(f, symbols, \u001b[38;5;241m*\u001b[39m\u001b[38;5;241m*\u001b[39mflags)\n",
      "File \u001b[1;32m~\\anaconda3\\envs\\IPNA\\lib\\site-packages\\sympy\\solvers\\solvers.py:1720\u001b[0m, in \u001b[0;36m_solve\u001b[1;34m(f, *symbols, **flags)\u001b[0m\n\u001b[0;32m   1717\u001b[0m \u001b[38;5;66;03m# ----------- end of fallback ----------------------------\u001b[39;00m\n\u001b[0;32m   1719\u001b[0m \u001b[38;5;28;01mif\u001b[39;00m result \u001b[38;5;129;01mis\u001b[39;00m \u001b[38;5;28;01mFalse\u001b[39;00m:\n\u001b[1;32m-> 1720\u001b[0m     \u001b[38;5;28;01mraise\u001b[39;00m \u001b[38;5;167;01mNotImplementedError\u001b[39;00m(\u001b[38;5;124m'\u001b[39m\u001b[38;5;130;01m\\n\u001b[39;00m\u001b[38;5;124m'\u001b[39m\u001b[38;5;241m.\u001b[39mjoin([msg, not_impl_msg \u001b[38;5;241m%\u001b[39m f]))\n\u001b[0;32m   1722\u001b[0m \u001b[38;5;28;01mif\u001b[39;00m flags\u001b[38;5;241m.\u001b[39mget(\u001b[38;5;124m'\u001b[39m\u001b[38;5;124msimplify\u001b[39m\u001b[38;5;124m'\u001b[39m, \u001b[38;5;28;01mTrue\u001b[39;00m):\n\u001b[0;32m   1723\u001b[0m     result \u001b[38;5;241m=\u001b[39m \u001b[38;5;28mlist\u001b[39m(\u001b[38;5;28mmap\u001b[39m(simplify, result))\n",
      "\u001b[1;31mNotImplementedError\u001b[0m: multiple generators [z, (-delta*z + s + z)**(-alpha), z**alpha]\nNo algorithms are implemented to solve equation -z + z**alpha*(s + z*(1 - delta))**(1 - alpha)/((g + 1)*(n + 1))**beta"
     ]
    }
   ],
   "source": [
    "zss = sm.solve(ss,z)[0]"
   ]
  },
  {
   "cell_type": "code",
   "execution_count": 16,
   "id": "00355091",
   "metadata": {},
   "outputs": [
    {
     "data": {
      "text/latex": [
       "$\\displaystyle \\delta z - z + \\left(z z^{- \\alpha} \\left(g n + g + n + 1\\right)^{\\beta}\\right)^{- \\frac{1}{\\alpha - 1}}$"
      ],
      "text/plain": [
       "delta*z - z + (z*(g*n + g + n + 1)**beta/z**alpha)**(-1/(alpha - 1))"
      ]
     },
     "execution_count": 16,
     "metadata": {},
     "output_type": "execute_result"
    }
   ],
   "source": [
    "zss"
   ]
  },
  {
   "cell_type": "code",
   "execution_count": null,
   "id": "36392932",
   "metadata": {},
   "outputs": [],
   "source": []
  }
 ],
 "metadata": {
  "celltoolbar": "Slideshow",
  "kernelspec": {
   "display_name": "Python 3 (ipykernel)",
   "language": "python",
   "name": "python3"
  },
  "language_info": {
   "codemirror_mode": {
    "name": "ipython",
    "version": 3
   },
   "file_extension": ".py",
   "mimetype": "text/x-python",
   "name": "python",
   "nbconvert_exporter": "python",
   "pygments_lexer": "ipython3",
   "version": "3.10.2"
  }
 },
 "nbformat": 4,
 "nbformat_minor": 5
}
