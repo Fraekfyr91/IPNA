{
 "cells": [
  {
   "cell_type": "markdown",
   "id": "warming-forwarding",
   "metadata": {
    "slideshow": {
     "slide_type": "slide"
    }
   },
   "source": [
    "<img src=\"ku_logo_uk_v.png\" alt=\"drawing\" width=\"130\" style=\"float:right\"/>\n",
    "\n",
    "# <span style=\"color:#2c061f\"> Model Project (1/2)</span>  \n",
    "\n",
    "<br>\n",
    "\n",
    "## <span style=\"color:#374045\"> Introduction to Programming and Numerical Analysis </span>\n",
    "*Oluf Kelkjær*\n",
    "\n",
    "### **Today's Plan**  \n",
    "1. Model Project \n",
    "    * Contents\n",
    "    * What to model?\n",
    "    * Let's go! :)"
   ]
  },
  {
   "cell_type": "markdown",
   "id": "e64eee98-4a67-4945-9e43-28ff8240b26a",
   "metadata": {
    "slideshow": {
     "slide_type": "slide"
    }
   },
   "source": [
    "## Model Project  \n",
    "Last project before the exam!  \n",
    "You will also work on the model project *next excercise class* (10th May).  \n",
    "**Hand-in**: 13th of May.  \n",
    "\n",
    "There's no peer-feedback, but you will receive feedback from me :)"
   ]
  },
  {
   "cell_type": "markdown",
   "id": "7390bef4-2a92-45a6-9859-63bca6aff18a",
   "metadata": {
    "slideshow": {
     "slide_type": "slide"
    }
   },
   "source": [
    "## Model Project - contents  \n",
    "Keep the **contents in mind!\n",
    "1. Describe an algorithm on how to solve a simple economic model (L09 & L10)\n",
    "2. Solve (and perhaps simulate) a simple economic model\n",
    "3. Visualize how the solution changes across parametrizations. Important task!\n",
    "4. Analyze one or more extensions of the baseline model\n",
    "\n",
    "**Code outline could look like**:\n",
    "* Use `sympy` to describe model as well as solve **analytically**.  \n",
    "* Use `scipy` to solve model **numerically**  \n",
    "\n",
    "When you solve the model **numerically**, it's *very good idea* to solve it **analytically** as well!  \n",
    "This serves as a **validation** of the numerically obtained results!\n",
    "* Use `matplotlib` and/or `widgets` to:\n",
    "    - Present results  \n",
    "    - Check what happens for different values of some parameter - **sanity check**!\n",
    "* Use `numpy` for simulations\n",
    "\n",
    "**Note that:** `sympy` should play a *minor role* in the project\n"
   ]
  },
  {
   "cell_type": "markdown",
   "id": "common-istanbul",
   "metadata": {
    "slideshow": {
     "slide_type": "slide"
    }
   },
   "source": [
    "## Model Project - What to model?\n",
    "**Model idea's**:\n",
    "* PAYG vs. OLG model    \n",
    "* Cournot  \n",
    "* Robinson Crusoe  \n",
    "* Ramsey  \n",
    "\n",
    "Any economic model you've met, you can model.  \n",
    "I'd *recommend* sticking with your favorite model (**a model you know**).  \n",
    "\n",
    "I can *help* you with the **code**, however I'm *not* a wandering model-encyclopedia :'(  \n",
    "Dont pick a model you can't solve (*analytically*)."
   ]
  },
  {
   "cell_type": "markdown",
   "id": "12cb691d-9227-482b-9689-34aa763e4bef",
   "metadata": {
    "slideshow": {
     "slide_type": "slide"
    }
   },
   "source": [
    "## Let's go! :)"
   ]
  }
 ],
 "metadata": {
  "celltoolbar": "Slideshow",
  "kernelspec": {
   "display_name": "Python 3 (ipykernel)",
   "language": "python",
   "name": "python3"
  },
  "language_info": {
   "codemirror_mode": {
    "name": "ipython",
    "version": 3
   },
   "file_extension": ".py",
   "mimetype": "text/x-python",
   "name": "python",
   "nbconvert_exporter": "python",
   "pygments_lexer": "ipython3",
   "version": "3.10.2"
  }
 },
 "nbformat": 4,
 "nbformat_minor": 5
}
