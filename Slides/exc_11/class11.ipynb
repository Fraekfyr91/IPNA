{
 "cells": [
  {
   "cell_type": "markdown",
   "id": "warming-forwarding",
   "metadata": {
    "slideshow": {
     "slide_type": "slide"
    }
   },
   "source": [
    "<img src=\"ku_logo_uk_v.png\" alt=\"drawing\" width=\"130\" style=\"float:right\"/>\n",
    "\n",
    "# <span style=\"color:#2c061f\"> PS6: Solving the Solow-model</span>  \n",
    "\n",
    "<br>\n",
    "\n",
    "## <span style=\"color:#374045\"> Introduction to Programming and Numerical Analysis </span>\n",
    "*Oluf Kelkjær*\n",
    "\n",
    "### **Today's Plan**  \n",
    "1. Dataproject\n",
    "1. Working with equations  \n",
    "    * Scipy's `linalg`\n",
    "    * `Sympy`\n",
    "2. Let's work on PS6"
   ]
  },
  {
   "cell_type": "markdown",
   "id": "7390bef4-2a92-45a6-9859-63bca6aff18a",
   "metadata": {
    "slideshow": {
     "slide_type": "slide"
    }
   },
   "source": [
    "## Dataproject\n",
    "Expect feedback from me before the next exercise class!   \n",
    "\n",
    "Remember to do peer-feedback - **deadline**: 24th april 23:59\n"
   ]
  },
  {
   "cell_type": "markdown",
   "id": "common-istanbul",
   "metadata": {
    "slideshow": {
     "slide_type": "slide"
    }
   },
   "source": [
    "## Scipy's `linalg`  \n",
    "Linalg is one of scipy's submodules.  \n",
    "Can basically do anything with the realm of linear algebra:  \n",
    "- Basic stuff: determinant, invert, norm\n",
    "- Matrix decompositions (LU, Cholesky etc.)\n",
    "- Solve a system of equations\n",
    "- Find eigenvalues\n",
    "\n"
   ]
  },
  {
   "cell_type": "markdown",
   "id": "73e5bec0-de7a-47c2-bf7a-c935d1a72a5a",
   "metadata": {
    "slideshow": {
     "slide_type": "slide"
    }
   },
   "source": [
    "## An example:\n",
    "Let's solve for x\n",
    "$$Ax = b$$"
   ]
  },
  {
   "cell_type": "code",
   "execution_count": 11,
   "id": "853341c5-d413-4cef-9a81-2a39633e7df0",
   "metadata": {
    "slideshow": {
     "slide_type": "fragment"
    },
    "tags": []
   },
   "outputs": [
    {
     "name": "stdout",
     "output_type": "stream",
     "text": [
      "Matrix A:\n",
      "[[0.33224607 0.71427591 0.37834749 0.24908241 0.83598633]\n",
      " [0.02005845 0.32670359 0.05606653 0.4008206  0.13288711]\n",
      " [0.88711192 0.15490098 0.01708181 0.95781716 0.58999632]\n",
      " [0.83959058 0.7146372  0.58705537 0.40933648 0.14603168]\n",
      " [0.16407166 0.65717511 0.146494   0.67717016 0.47425348]]\n",
      "\n",
      "Matrix b:\n",
      " [0.78485347 0.85159023 0.84757586 0.42016935 0.20991113]\n"
     ]
    }
   ],
   "source": [
    "import numpy as np\n",
    "from scipy import linalg\n",
    "np.random.seed(1900)\n",
    "A = np.random.uniform(size=(5,5))\n",
    "b = np.random.uniform(size=5)\n",
    "print(f'Matrix A:\\n{A}\\n\\nMatrix b:\\n {b}')"
   ]
  },
  {
   "cell_type": "code",
   "execution_count": 2,
   "id": "ba34e0d8-591a-411f-b9eb-8f21fdb5a0bd",
   "metadata": {
    "slideshow": {
     "slide_type": "fragment"
    }
   },
   "outputs": [
    {
     "name": "stdout",
     "output_type": "stream",
     "text": [
      "[-15.33189031 -24.00998148  40.02675108  15.24193293   4.89008792]\n"
     ]
    }
   ],
   "source": [
    "# Solve using LU factorization -> \n",
    "# Split A in a lower, upper triangular matrix and a permutation matrix -> Speed\n",
    "# LU factorize A using linalg\n",
    "LU,piv = linalg.lu_factor(A)\n",
    "\n",
    "# Solve using linalg\n",
    "x = linalg.lu_solve((LU,piv),b)\n",
    "print(x)"
   ]
  },
  {
   "cell_type": "code",
   "execution_count": 3,
   "id": "d69e831b-72ad-49b8-b65b-7b5bb8f2ecae",
   "metadata": {
    "slideshow": {
     "slide_type": "slide"
    }
   },
   "outputs": [
    {
     "name": "stdout",
     "output_type": "stream",
     "text": [
      "[-15.33189031 -24.00998148  40.02675108  15.24193293   4.89008792]\n"
     ]
    }
   ],
   "source": [
    "# or you could use a regular solve\n",
    "print(linalg.solve(A,b))"
   ]
  },
  {
   "cell_type": "markdown",
   "id": "e544193e-168c-4105-9bc8-49883fe56ef3",
   "metadata": {
    "slideshow": {
     "slide_type": "slide"
    }
   },
   "source": [
    "## What do we use it for?\n",
    "\n",
    "In the first question of the exam 2020 you had to implement the OLS estimator using linear algebra. Recall that,\n",
    "\n",
    "$$\\hat{\\beta}=(X^{'}X)^{-1}X^{'}y$$"
   ]
  },
  {
   "cell_type": "markdown",
   "id": "0b2a25ab-2176-40ba-9227-e1328b3907db",
   "metadata": {
    "slideshow": {
     "slide_type": "slide"
    }
   },
   "source": [
    "## Symbolic Python  \n",
    "`SymPy` is a Python library for symbolic mathematics and lets you solve equations **analytically**! (*like* WolframAlpha or Symbolab)  \n",
    "\n",
    "Say that you want implement the utility function of standard OLG agent. We assume agents derive utility from consumption in both periods:\n",
    "$$U_t = u(c_{1t})+\\frac{1}{1+\\rho}u(c_{2t+1})$$  \n",
    "We assume log-preferences"
   ]
  },
  {
   "cell_type": "code",
   "execution_count": 14,
   "id": "af753de4-6c17-428e-8185-72a95df6a9c3",
   "metadata": {
    "slideshow": {
     "slide_type": "fragment"
    }
   },
   "outputs": [
    {
     "data": {
      "text/latex": [
       "$\\displaystyle \\log{\\left(c_{1t} \\right)} + \\frac{\\log{\\left(c_{2t+1} \\right)}}{\\rho + 1}$"
      ],
      "text/plain": [
       "log(c_1t) + log(c_2t+1)/(rho + 1)"
      ]
     },
     "execution_count": 14,
     "metadata": {},
     "output_type": "execute_result"
    }
   ],
   "source": [
    "import sympy as sm\n",
    "# Initialize variabels in Sympy\n",
    "c1,c2 = sm.symbols('c_1t'), sm.symbols('c_2t+1')\n",
    "rho = sm.symbols('rho')\n",
    "\n",
    "# Setup utility in sympy\n",
    "uc1 = sm.ln(c1)\n",
    "uc2 = sm.ln(c2)\n",
    "U = uc1 + 1/(1+rho) * uc2\n",
    "U"
   ]
  },
  {
   "cell_type": "markdown",
   "id": "1f5df929-88d6-477f-88da-07c5fc47d294",
   "metadata": {
    "slideshow": {
     "slide_type": "slide"
    }
   },
   "source": [
    "With `sympy` we are able to do many calculations. Say that we need the derivate of $U$ w.r.t. $c_{2t+1}$:"
   ]
  },
  {
   "cell_type": "code",
   "execution_count": 5,
   "id": "3fd64e3f-4c79-495d-a629-6dd71c05c3af",
   "metadata": {
    "slideshow": {
     "slide_type": "fragment"
    }
   },
   "outputs": [
    {
     "data": {
      "text/latex": [
       "$\\displaystyle \\frac{1}{c_{2t+1} \\left(\\rho + 1\\right)}$"
      ],
      "text/plain": [
       "1/(c_2t+1*(rho + 1))"
      ]
     },
     "execution_count": 5,
     "metadata": {},
     "output_type": "execute_result"
    }
   ],
   "source": [
    "# We just use SymPy's .diff() method:\n",
    "sm.diff(U,c2)"
   ]
  },
  {
   "cell_type": "markdown",
   "id": "75c2e7f3-e866-480f-963c-da2e922bbd58",
   "metadata": {
    "slideshow": {
     "slide_type": "slide"
    }
   },
   "source": [
    "Another cool feature is that you can turn your SymPy equations into python functions. This can really tie your model projects together:  \n",
    "* Solve model analytically with SymPy  \n",
    "* Convert your solution to a python function e.g. the law-of-motion in OLG  \n",
    "* Find steady state level of capital using an optimizer   \n",
    "\n",
    " \n",
    "How is it done?"
   ]
  },
  {
   "cell_type": "code",
   "execution_count": 6,
   "id": "b5458afe-c99f-4b9c-bd6d-58076ec4a28a",
   "metadata": {
    "slideshow": {
     "slide_type": "fragment"
    }
   },
   "outputs": [
    {
     "data": {
      "text/plain": [
       "3.836311550582437"
      ]
     },
     "execution_count": 6,
     "metadata": {},
     "output_type": "execute_result"
    }
   ],
   "source": [
    "# Use SymPy's lambdify method which takes an iterable of arguments in our case the consumptions and rho\n",
    "# and of course the function in our case U\n",
    "util = sm.lambdify((c1,c2,rho),U)\n",
    "\n",
    "# Compute some utility \n",
    "util(7,8,0.1)"
   ]
  },
  {
   "cell_type": "markdown",
   "id": "bigger-potential",
   "metadata": {
    "slideshow": {
     "slide_type": "slide"
    }
   },
   "source": [
    "## Lets work on PS6 :)\n"
   ]
  }
 ],
 "metadata": {
  "celltoolbar": "Slideshow",
  "kernelspec": {
   "display_name": "Python 3 (ipykernel)",
   "language": "python",
   "name": "python3"
  },
  "language_info": {
   "codemirror_mode": {
    "name": "ipython",
    "version": 3
   },
   "file_extension": ".py",
   "mimetype": "text/x-python",
   "name": "python",
   "nbconvert_exporter": "python",
   "pygments_lexer": "ipython3",
   "version": "3.10.2"
  }
 },
 "nbformat": 4,
 "nbformat_minor": 5
}
