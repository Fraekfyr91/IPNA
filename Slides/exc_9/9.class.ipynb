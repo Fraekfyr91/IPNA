{
 "cells": [
  {
   "cell_type": "markdown",
   "id": "87a36d16-6c94-4130-8e72-c2b67338e9f7",
   "metadata": {
    "slideshow": {
     "slide_type": "slide"
    }
   },
   "source": [
    "<img src=\"ku_logo_uk_v.png\" alt=\"drawing\" width=\"130\" style=\"float:right\"/>\n",
    "\n",
    "# <span style=\"color:#2c061f\"> Data Project</span>  \n",
    "\n",
    "<br>\n",
    "\n",
    "## <span style=\"color:#374045\"> Introduction to Programming and Numerical Analysis </span>\n",
    "*Oluf Kelkjær*\n",
    "\n",
    "### **Today's Plan**  \n",
    "1. Inaugural Project\n",
    "2. Data Project"
   ]
  },
  {
   "cell_type": "markdown",
   "id": "06b0f038-e0ac-4fb1-bb88-d0ab29b75e90",
   "metadata": {},
   "source": [
    "## Inaugural Project  \n",
    "You should all have received **feedback** from me in absalon inbox.  \n",
    "If you haven't received feedback from me, or have any questions regarding the feedback, take a hold of me!  \n",
    "\n",
    "If you've passed, it doesn't mean there's not room for improvement :)  \n",
    "In generel, keep the objectives in mind:  \n",
    "* Apply numerical solution and simulation methods\n",
    "    * Solve the problem using SciPy and numpy, using what you've learned in **lecture 03 and lecture 04**  \n",
    "* Structure a code project\n",
    "    * Notebook (markdown cells, introduce and conclude questions), py-files, readme (description and dependencies) etc.\n",
    "* Document code\n",
    "    * Document and explain your code using what you learned in **lecture 05**\n",
    "* Present results in text form and in figures\n",
    "    * Create nice tables/figures + create nice markdown cells\n"
   ]
  },
  {
   "cell_type": "markdown",
   "id": "96bab51e-b187-47bb-b6f6-ec204fa421ca",
   "metadata": {},
   "source": [
    "## Data Project  \n",
    "Project description is live on Git.  \n",
    "**Deadline**: 17th of april.  \n",
    "\n",
    "**Again keep the objectives and the contents in mind and you are good to go!**\n",
    "\n",
    "Also: use at least 2 datasets, combine them and do some grouped analysis (split-apply-combine). Use operations from **Lecture 07 and Lecture 08**"
   ]
  },
  {
   "cell_type": "markdown",
   "id": "7a9ac91b-612f-4c89-b898-2a6056c75cc6",
   "metadata": {},
   "source": [
    "## Let's go :)"
   ]
  }
 ],
 "metadata": {
  "celltoolbar": "Slideshow",
  "kernelspec": {
   "display_name": "Python 3 (ipykernel)",
   "language": "python",
   "name": "python3"
  },
  "language_info": {
   "codemirror_mode": {
    "name": "ipython",
    "version": 3
   },
   "file_extension": ".py",
   "mimetype": "text/x-python",
   "name": "python",
   "nbconvert_exporter": "python",
   "pygments_lexer": "ipython3",
   "version": "3.10.2"
  }
 },
 "nbformat": 4,
 "nbformat_minor": 5
}
