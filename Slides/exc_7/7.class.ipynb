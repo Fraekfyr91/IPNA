{
 "cells": [
  {
   "cell_type": "markdown",
   "id": "87a36d16-6c94-4130-8e72-c2b67338e9f7",
   "metadata": {
    "slideshow": {
     "slide_type": "slide"
    }
   },
   "source": [
    "<img src=\"ku_logo_uk_v.png\" alt=\"drawing\" width=\"130\" style=\"float:right\"/>\n",
    "\n",
    "# <span style=\"color:#2c061f\"> Problem Set 3: Loading and Structuring data</span>  \n",
    "\n",
    "<br>\n",
    "\n",
    "## <span style=\"color:#374045\"> Introduction to Programming and Numerical Analysis </span>\n",
    "*Oluf Kelkjær*\n",
    "\n",
    "### **Today's Plan**  \n",
    "1. Introduction to Pandas\n",
    "2. Monte Carlo integration briefly"
   ]
  },
  {
   "cell_type": "markdown",
   "id": "1163d1b3-0038-4a02-8320-80434810f809",
   "metadata": {
    "slideshow": {
     "slide_type": "slide"
    }
   },
   "source": [
    "### Introduction to Pandas  \n",
    "`Pandas` is a powerful library when dealing with data.  \n",
    "\n",
    "\n",
    "`Pandas` is built on top of `Numpy` which means that alot of `Numpy` structure is used or replicated in `Pandas`.  \n",
    "\n",
    "The core element of Pandas is the `DataFrame`. Looks like a 'classic' dataset and can store heterogeneous tabular data.  \n",
    "\n",
    "The `DataFrame` is a `Class` with many methods!  "
   ]
  },
  {
   "cell_type": "code",
   "execution_count": 5,
   "id": "95645b93-b09f-4471-a1af-1c4ab9bd176e",
   "metadata": {
    "slideshow": {
     "slide_type": "fragment"
    }
   },
   "outputs": [
    {
     "data": {
      "text/html": [
       "<div>\n",
       "<style scoped>\n",
       "    .dataframe tbody tr th:only-of-type {\n",
       "        vertical-align: middle;\n",
       "    }\n",
       "\n",
       "    .dataframe tbody tr th {\n",
       "        vertical-align: top;\n",
       "    }\n",
       "\n",
       "    .dataframe thead th {\n",
       "        text-align: right;\n",
       "    }\n",
       "</style>\n",
       "<table border=\"1\" class=\"dataframe\">\n",
       "  <thead>\n",
       "    <tr style=\"text-align: right;\">\n",
       "      <th></th>\n",
       "      <th>A</th>\n",
       "      <th>B</th>\n",
       "      <th>C</th>\n",
       "      <th>D</th>\n",
       "      <th>E</th>\n",
       "      <th>F</th>\n",
       "    </tr>\n",
       "  </thead>\n",
       "  <tbody>\n",
       "    <tr>\n",
       "      <th>0</th>\n",
       "      <td>1.0</td>\n",
       "      <td>2013-01-02</td>\n",
       "      <td>1.0</td>\n",
       "      <td>3</td>\n",
       "      <td>test</td>\n",
       "      <td>foo</td>\n",
       "    </tr>\n",
       "    <tr>\n",
       "      <th>1</th>\n",
       "      <td>1.0</td>\n",
       "      <td>2013-01-02</td>\n",
       "      <td>1.0</td>\n",
       "      <td>3</td>\n",
       "      <td>train</td>\n",
       "      <td>foo</td>\n",
       "    </tr>\n",
       "    <tr>\n",
       "      <th>2</th>\n",
       "      <td>1.0</td>\n",
       "      <td>2013-01-02</td>\n",
       "      <td>1.0</td>\n",
       "      <td>3</td>\n",
       "      <td>test</td>\n",
       "      <td>foo</td>\n",
       "    </tr>\n",
       "    <tr>\n",
       "      <th>3</th>\n",
       "      <td>1.0</td>\n",
       "      <td>2013-01-02</td>\n",
       "      <td>1.0</td>\n",
       "      <td>3</td>\n",
       "      <td>train</td>\n",
       "      <td>foo</td>\n",
       "    </tr>\n",
       "  </tbody>\n",
       "</table>\n",
       "</div>"
      ],
      "text/plain": [
       "     A          B    C  D      E    F\n",
       "0  1.0 2013-01-02  1.0  3   test  foo\n",
       "1  1.0 2013-01-02  1.0  3  train  foo\n",
       "2  1.0 2013-01-02  1.0  3   test  foo\n",
       "3  1.0 2013-01-02  1.0  3  train  foo"
      ]
     },
     "execution_count": 5,
     "metadata": {},
     "output_type": "execute_result"
    }
   ],
   "source": [
    "import pandas as pd\n",
    "import numpy as np\n",
    "\n",
    "data = {\"A\": 1.0,\n",
    "        \"B\": pd.Timestamp(\"20130102\"),\n",
    "        \"C\": pd.Series(1, index=list(range(4)), dtype=\"float32\"),\n",
    "        \"D\": np.array([3] * 4, dtype=\"int32\"),\n",
    "        \"E\": pd.Categorical([\"test\", \"train\", \"test\", \"train\"]),\n",
    "        \"F\": \"foo\"}\n",
    "\n",
    "df = pd.DataFrame(data)\n",
    "df.head() # df.tail(x) last x rows, df.sample(x) x random rows"
   ]
  },
  {
   "cell_type": "markdown",
   "id": "c17c9e0b-cb9f-40bc-a63e-f15076df90ae",
   "metadata": {
    "slideshow": {
     "slide_type": "slide"
    }
   },
   "source": [
    "Almost every datawrangling action you can do in `SQL`, `Excel` and `R (data.table)`, you can also do in `pandas`.    \n",
    "\n",
    "### Accessing data in DataFrame  \n",
    "Multiple ways to go about:"
   ]
  },
  {
   "cell_type": "code",
   "execution_count": 23,
   "id": "03890e73-def7-4086-83db-794910da2d4e",
   "metadata": {
    "slideshow": {
     "slide_type": "fragment"
    }
   },
   "outputs": [
    {
     "data": {
      "text/plain": [
       "True"
      ]
     },
     "execution_count": 23,
     "metadata": {},
     "output_type": "execute_result"
    }
   ],
   "source": [
    "df[\"A\"]\n",
    "# df.A\n",
    "# df.loc[:,\"A\"] # .loc needs names. First input is rows, second i column. : means take all\n",
    "# df.iloc[:,0] # .iloc needs index\n",
    "# df[\"A\"].all() == df.A.all() == df.loc[:,\"A\"].all() == df.iloc[:,0].all()"
   ]
  },
  {
   "cell_type": "markdown",
   "id": "57989a5f-dc32-44d2-93ab-cf529a565baa",
   "metadata": {
    "slideshow": {
     "slide_type": "slide"
    }
   },
   "source": [
    "### Creating new columns  \n",
    "You can add new columns to the DataFrame and math operations is allowed:  "
   ]
  },
  {
   "cell_type": "code",
   "execution_count": 36,
   "id": "13017282-5d76-4aed-9b95-417320756b6d",
   "metadata": {
    "slideshow": {
     "slide_type": "fragment"
    }
   },
   "outputs": [
    {
     "data": {
      "text/html": [
       "<div>\n",
       "<style scoped>\n",
       "    .dataframe tbody tr th:only-of-type {\n",
       "        vertical-align: middle;\n",
       "    }\n",
       "\n",
       "    .dataframe tbody tr th {\n",
       "        vertical-align: top;\n",
       "    }\n",
       "\n",
       "    .dataframe thead th {\n",
       "        text-align: right;\n",
       "    }\n",
       "</style>\n",
       "<table border=\"1\" class=\"dataframe\">\n",
       "  <thead>\n",
       "    <tr style=\"text-align: right;\">\n",
       "      <th></th>\n",
       "      <th>A</th>\n",
       "      <th>B</th>\n",
       "      <th>C</th>\n",
       "      <th>D</th>\n",
       "      <th>E</th>\n",
       "      <th>F</th>\n",
       "      <th>C/D</th>\n",
       "    </tr>\n",
       "  </thead>\n",
       "  <tbody>\n",
       "    <tr>\n",
       "      <th>0</th>\n",
       "      <td>1.0</td>\n",
       "      <td>2013-01-02</td>\n",
       "      <td>1.0</td>\n",
       "      <td>3</td>\n",
       "      <td>test</td>\n",
       "      <td>foo</td>\n",
       "      <td>0.333333</td>\n",
       "    </tr>\n",
       "    <tr>\n",
       "      <th>1</th>\n",
       "      <td>1.0</td>\n",
       "      <td>2013-01-02</td>\n",
       "      <td>1.0</td>\n",
       "      <td>3</td>\n",
       "      <td>train</td>\n",
       "      <td>foo</td>\n",
       "      <td>0.333333</td>\n",
       "    </tr>\n",
       "    <tr>\n",
       "      <th>2</th>\n",
       "      <td>1.0</td>\n",
       "      <td>2013-01-02</td>\n",
       "      <td>1.0</td>\n",
       "      <td>3</td>\n",
       "      <td>test</td>\n",
       "      <td>foo</td>\n",
       "      <td>0.333333</td>\n",
       "    </tr>\n",
       "  </tbody>\n",
       "</table>\n",
       "</div>"
      ],
      "text/plain": [
       "     A          B    C  D      E    F       C/D\n",
       "0  1.0 2013-01-02  1.0  3   test  foo  0.333333\n",
       "1  1.0 2013-01-02  1.0  3  train  foo  0.333333\n",
       "2  1.0 2013-01-02  1.0  3   test  foo  0.333333"
      ]
     },
     "execution_count": 36,
     "metadata": {},
     "output_type": "execute_result"
    }
   ],
   "source": [
    "df[\"C/D\"] = df['C'] / df['D']\n",
    "df"
   ]
  },
  {
   "cell_type": "markdown",
   "id": "821fbfd0-516f-4cec-8367-fb0a47465ef9",
   "metadata": {
    "slideshow": {
     "slide_type": "slide"
    }
   },
   "source": [
    "### Subsetting DataFrame\n",
    "Sometimes you only need specific parts of a DataFrame. To subset often the `.loc` method is used:"
   ]
  },
  {
   "cell_type": "code",
   "execution_count": 40,
   "id": "114b137c-c715-41f7-897b-ef4b0731db68",
   "metadata": {
    "slideshow": {
     "slide_type": "fragment"
    }
   },
   "outputs": [
    {
     "name": "stdout",
     "output_type": "stream",
     "text": [
      "0     True\n",
      "1    False\n",
      "2     True\n",
      "Name: E, dtype: bool\n"
     ]
    },
    {
     "data": {
      "text/html": [
       "<div>\n",
       "<style scoped>\n",
       "    .dataframe tbody tr th:only-of-type {\n",
       "        vertical-align: middle;\n",
       "    }\n",
       "\n",
       "    .dataframe tbody tr th {\n",
       "        vertical-align: top;\n",
       "    }\n",
       "\n",
       "    .dataframe thead th {\n",
       "        text-align: right;\n",
       "    }\n",
       "</style>\n",
       "<table border=\"1\" class=\"dataframe\">\n",
       "  <thead>\n",
       "    <tr style=\"text-align: right;\">\n",
       "      <th></th>\n",
       "      <th>B</th>\n",
       "      <th>E</th>\n",
       "      <th>C/D</th>\n",
       "    </tr>\n",
       "  </thead>\n",
       "  <tbody>\n",
       "    <tr>\n",
       "      <th>0</th>\n",
       "      <td>2013-01-02</td>\n",
       "      <td>test</td>\n",
       "      <td>0.333333</td>\n",
       "    </tr>\n",
       "    <tr>\n",
       "      <th>2</th>\n",
       "      <td>2013-01-02</td>\n",
       "      <td>test</td>\n",
       "      <td>0.333333</td>\n",
       "    </tr>\n",
       "  </tbody>\n",
       "</table>\n",
       "</div>"
      ],
      "text/plain": [
       "           B     E       C/D\n",
       "0 2013-01-02  test  0.333333\n",
       "2 2013-01-02  test  0.333333"
      ]
     },
     "execution_count": 40,
     "metadata": {},
     "output_type": "execute_result"
    }
   ],
   "source": [
    "# Subset DataFrames\n",
    "boolean_array = df['E'] == 'test'\n",
    "print(boolean_array)\n",
    "\n",
    "df_new = df.loc[boolean_array,['B','E','C/D']] # only want rows where boolean array is True + specified columns\n",
    "df_new"
   ]
  },
  {
   "cell_type": "markdown",
   "id": "384c8f2f-bbb3-4731-be0e-2ba212512d27",
   "metadata": {
    "slideshow": {
     "slide_type": "slide"
    }
   },
   "source": [
    "### Pandas wrapped up\n",
    "These functions will get you far.  \n",
    "**Remember** the answers to the PS is suggested answers - what matters is the right result.  \n",
    "However, don't overcomplicate things.  \n",
    "\n",
    "\n",
    "For your next project (**Data Project**) - you will be using `pandas`.  \n",
    "If you're spending time on the **Inaugural Project** today, fear not.  \n",
    "You will also be dealing with `pandas` in the next Problem Set  "
   ]
  },
  {
   "cell_type": "markdown",
   "id": "6d786038-3416-4144-a462-711228e9ca72",
   "metadata": {
    "slideshow": {
     "slide_type": "slide"
    }
   },
   "source": [
    "## Numerical Integration\n",
    "**General** problem:\n",
    "\\begin{equation}\n",
    "    \\mathbb{E}[g(x)]=\\int_{x \\in X}^{} g(x)f(x)dx\n",
    "\\end{equation}\n",
    "where $g:\\mathbb{R}\\rightarrow \\mathbb{R}$ is some function and $f(x)$ is the PDF for $x$.  \n",
    "\n",
    "**General** solution:  \n",
    "Relying on the **LLN** we can **approximate** the true integral with a finite sample, i.e. turn into discrete sum:\n",
    "\\begin{equation}\n",
    "    \\mathbb{E}[g(x)]\\approx \\sum_{i=1}^{N} g(x_i) w_{i} \n",
    "\\end{equation} \n",
    "In **Monte Carlo integration** we draw $N$ (pseudo-)random $x_i$ from $f(x)$, where weights $\\sum w_i=\\frac{1}{N}$.  \n",
    "This means the integral can be approximated by\n",
    "\\begin{equation}\n",
    "    \\mathbb{E}[g(x)]\\approx \\frac{1}{N} \\sum_{i=1}^{N} g(x_i)\n",
    "\\end{equation}\n",
    "**In conclusion:** the most likely values of $x$ will weight the most as they are sampled the most often - thus gaining the appropriate weight in MC integration. Taking the mean is thereby sufficient."
   ]
  },
  {
   "cell_type": "markdown",
   "id": "6dcc9aa9",
   "metadata": {
    "slideshow": {
     "slide_type": "slide"
    }
   },
   "source": [
    "**Question 3** of Inaugural project is presented as integral - you should the previous logic.  \n",
    "Meaning:\n",
    "1. Draw `x` from beta distribution\n",
    "2. evalute `u( )` as seen in the question \n",
    "3. Return its mean"
   ]
  }
 ],
 "metadata": {
  "celltoolbar": "Slideshow",
  "kernelspec": {
   "display_name": "Python 3 (ipykernel)",
   "language": "python",
   "name": "python3"
  },
  "language_info": {
   "codemirror_mode": {
    "name": "ipython",
    "version": 3
   },
   "file_extension": ".py",
   "mimetype": "text/x-python",
   "name": "python",
   "nbconvert_exporter": "python",
   "pygments_lexer": "ipython3",
   "version": "3.10.2"
  }
 },
 "nbformat": 4,
 "nbformat_minor": 5
}
