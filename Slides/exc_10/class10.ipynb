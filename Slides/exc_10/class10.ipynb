{
 "cells": [
  {
   "cell_type": "markdown",
   "id": "warming-forwarding",
   "metadata": {
    "slideshow": {
     "slide_type": "slide"
    }
   },
   "source": [
    "<img src=\"ku_logo_uk_v.png\" alt=\"drawing\" width=\"130\" style=\"float:right\"/>\n",
    "\n",
    "# <span style=\"color:#2c061f\"> PS5: Writing your own algorithms</span>  \n",
    "\n",
    "<br>\n",
    "\n",
    "## <span style=\"color:#374045\"> Introduction to Programming and Numerical Analysis </span>\n",
    "*Oluf Kelkjær*\n",
    "\n",
    "### **Today's Plan**  \n",
    "1. Algorithms\n",
    "    * What is an algorithm anyway?\n",
    "    * Bisection search\n",
    "    * Finding primes\n",
    "2. Let's work on PS5"
   ]
  },
  {
   "cell_type": "markdown",
   "id": "common-istanbul",
   "metadata": {
    "slideshow": {
     "slide_type": "slide"
    }
   },
   "source": [
    "## What is an algorithm anyway?   \n",
    "While algorithms can be complex, at the core they are quite simple. At its very simplest an algorithm is just a list of rules to follow in order to solve a problem. What have all of these in common?  \n",
    "- Cooking recipe  \n",
    "- Find the factorial of *x*  \n",
    "- Finding the global maximum of a convex function \n",
    "- Navigating a self-driving car  \n",
    "\n",
    "**Essentially:**  \n",
    "Algorithms is an uambigious specificaion of how to solve a class of problems  \n",
    "\n",
    "\n"
   ]
  },
  {
   "cell_type": "markdown",
   "id": "54ae1369-a7ce-41b1-a66f-8e135aa534b7",
   "metadata": {
    "slideshow": {
     "slide_type": "slide"
    }
   },
   "source": [
    "**Complexity matters!**  \n",
    "Suppose we want to **sort a dataset containing 500.000 rows**.  \n",
    "Sorting the dataset using the **bubble-sort algorithm** of complexity $O(n^2)$ means that $500.000^2 = 250.000.000.000$ operations is required.   \n",
    "Sorting the dataset using `NumPy`s **quicksort algorithm** with complexity $O(n\\cdot\\log(n))$ *only* requires $500.000 \\cdot \\log(500.000) \\approx 2.850.000$ operations - quite a difference!  "
   ]
  },
  {
   "cell_type": "markdown",
   "id": "charming-hunger",
   "metadata": {
    "slideshow": {
     "slide_type": "slide"
    }
   },
   "source": [
    "## Bisection Search\n",
    "\n",
    "<img src=\"bisection.pbm\" alt=\"drawing\" width=\"1100\"/>"
   ]
  },
  {
   "cell_type": "markdown",
   "id": "faced-jackson",
   "metadata": {
    "slideshow": {
     "slide_type": "slide"
    }
   },
   "source": [
    "## Finding Primes  \n",
    "**Watch this [video](https://www.youtube.com/watch?v=klcIklsWzrY)** - can also be found in the Problem Set"
   ]
  },
  {
   "cell_type": "markdown",
   "id": "bigger-potential",
   "metadata": {
    "slideshow": {
     "slide_type": "slide"
    }
   },
   "source": [
    "## Lets work on PS5 :)\n",
    "\n",
    "Feel free to work on the Data Project! Let me know if I can help."
   ]
  }
 ],
 "metadata": {
  "celltoolbar": "Slideshow",
  "kernelspec": {
   "display_name": "Python 3 (ipykernel)",
   "language": "python",
   "name": "python3"
  },
  "language_info": {
   "codemirror_mode": {
    "name": "ipython",
    "version": 3
   },
   "file_extension": ".py",
   "mimetype": "text/x-python",
   "name": "python",
   "nbconvert_exporter": "python",
   "pygments_lexer": "ipython3",
   "version": "3.10.2"
  }
 },
 "nbformat": 4,
 "nbformat_minor": 5
}
