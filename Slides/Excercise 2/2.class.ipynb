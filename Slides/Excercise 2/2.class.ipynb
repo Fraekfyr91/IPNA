{
 "cells": [
  {
   "cell_type": "markdown",
   "id": "ab5999cb-346e-45b6-94ff-a163b273a2da",
   "metadata": {
    "slideshow": {
     "slide_type": "slide"
    }
   },
   "source": [
    "<img src=\"ku_logo_uk_v.png\" alt=\"drawing\" width=\"130\" style=\"float:right\"/>\n",
    "\n",
    "# <span style=\"color:#2c061f\"> 2. excercise class (DataCamp) </span>  \n",
    "\n",
    "<br>\n",
    "\n",
    "## <span style=\"color:#374045\"> Introduction to Programming and Numerical Analysis </span>\n",
    "*Oluf Kelkjær*  \n",
    "\n",
    "### **Today's Plan**  \n",
    "1. DataCamp is up  \n",
    "2. JupyterLab tip  \n",
    "3. Top 5 Git commands  \n",
    "4. VSCode"
   ]
  },
  {
   "cell_type": "markdown",
   "id": "a9256618-4ae7-4034-a2b0-db9db7d4eb45",
   "metadata": {},
   "source": [
    "### **JupyterLab Tips**  \n",
    "The **Terminal** (Anaconda prompt) is the direct way of **communicating** with your **computer**.  \n",
    "The Terminal is used to open up **JupyterLab**, which is a  \n"
   ]
  },
  {
   "cell_type": "markdown",
   "id": "c191096a-259d-475f-8c34-7d5829c9db37",
   "metadata": {},
   "source": [
    "### **JupyterLab tips**  \n",
    "Remember to **restart** your **kernel** (*computational engine*) every now and then!  \n",
    "This will erase variable data. This is nice if you have a lot of variables and fear that some variable interfere with others. \n",
    "\n",
    "\n",
    "\n"
   ]
  },
  {
   "cell_type": "markdown",
   "id": "95c1867c-d5ed-429a-bc8b-f63bd7dc85bf",
   "metadata": {},
   "source": [
    "### **Top 5-ish Git commands**  \n",
    "\n",
    "`git clone URL` clones repository located in a given URL (*one time only*). \n",
    "\n",
    "`git status` shows you which files are in staging area and which (editted) files are not yet in staging area \n",
    "\n",
    "`git pull` lets you pull (download) the the latest update from the repository.  \n",
    "\n",
    "`git add .` add new and modified files to staging area.  \n",
    "`git commit -m \"added some cool code` will let you commit changes with the log message \"some message in quotations\"  \n",
    "\n",
    "`git push` lets you push (upload) the lastest local changes to your git *repository*.  \n",
    "\n",
    "**Beware of merge conflicts!**  \n",
    "Don't work on the same file as your buddy at the same time!  \n",
    "Merge conflicts can be solved - sometime very difficult though!\n",
    "Always pull the latest changes before making new ones - notify your group."
   ]
  },
  {
   "cell_type": "code",
   "execution_count": 1,
   "id": "cf60e567-e675-4f0a-bd9d-9842f5beccbe",
   "metadata": {},
   "outputs": [
    {
     "name": "stdout",
     "output_type": "stream",
     "text": [
      "oh no\n"
     ]
    }
   ],
   "source": [
    "print('oh no')"
   ]
  },
  {
   "cell_type": "markdown",
   "id": "0b0ba134-db30-4f1b-a457-dc51fa0773f5",
   "metadata": {},
   "source": [
    "### **VSCode**\n",
    "*Almost* anything that **JupyterLab** does, **VSCode** can do as well.  \n",
    "  \n",
    "VSCode however has some cool features:  \n",
    "* Syntax highlighting\n",
    "* Code completion and highlighting\n",
    "* Git and a variable-inspector is part of VSCode  "
   ]
  },
  {
   "cell_type": "markdown",
   "id": "650fe8bc-c8c0-4a98-8e0c-f2ca7409033c",
   "metadata": {
    "slideshow": {
     "slide_type": "slide"
    }
   },
   "source": [
    "**Excercise Plan**  (*tentative*)  \n",
    "1. DataCamp  \n",
    "2. **DataCamp**\n",
    "3. DataCamp\n",
    "4. Problem Set 1: Solving the consumer problem\n",
    "5. Problem Set 2: Finding the Walras equilibrium in a multi-agent economy \n",
    "6. Work on your inaugural project\n",
    "7. Problem Set 3: Loading and combining data from Denmark Statistics \n",
    "8. Problem Set 4: Analyzing data\n",
    "9. Work on your data project\n",
    "10. Problem Set 5: Writing your own searching and sorting algorithms \n",
    "11. Problem Set 6: Solving the Solow model\n",
    "12. Problem Set 7: Solving the consumer problem with income risk \n",
    "13. Work on your model analysis project\n",
    "14. Work on your model analysis project \n",
    "15. Feedback on model project\n",
    "\n",
    "**Deadline for DataCamp is 27/2-22**"
   ]
  },
  {
   "cell_type": "markdown",
   "id": "c552f89d",
   "metadata": {
    "slideshow": {
     "slide_type": "slide"
    }
   },
   "source": [
    "Have Git not asked for your GitHub credentials yet?  \n",
    "In Anaconda (Windows) or terminal (Mac):  \n",
    "`git config --list` check that username and email is correct.\n",
    "\n",
    "\n",
    "If not:  \n",
    "`git config --global user.name \"JensHansen\"`  \n",
    "and/or  \n",
    "`git config --global user.email jenshansen@mail.com`"
   ]
  }
 ],
 "metadata": {
  "celltoolbar": "Slideshow",
  "kernelspec": {
   "display_name": "Python 3 (ipykernel)",
   "language": "python",
   "name": "python3"
  },
  "language_info": {
   "codemirror_mode": {
    "name": "ipython",
    "version": 3
   },
   "file_extension": ".py",
   "mimetype": "text/x-python",
   "name": "python",
   "nbconvert_exporter": "python",
   "pygments_lexer": "ipython3",
   "version": "3.8.12"
  }
 },
 "nbformat": 4,
 "nbformat_minor": 5
}
