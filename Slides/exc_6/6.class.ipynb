{
 "cells": [
  {
   "cell_type": "markdown",
   "id": "87a36d16-6c94-4130-8e72-c2b67338e9f7",
   "metadata": {
    "slideshow": {
     "slide_type": "slide"
    }
   },
   "source": [
    "<img src=\"ku_logo_uk_v.png\" alt=\"drawing\" width=\"130\" style=\"float:right\"/>\n",
    "\n",
    "# <span style=\"color:#2c061f\"> Inaugural project: Getting an Insurance</span>  \n",
    "\n",
    "<br>\n",
    "\n",
    "## <span style=\"color:#374045\"> Introduction to Programming and Numerical Analysis </span>\n",
    "*Oluf Kelkjær*\n",
    "\n",
    "### **Today's Plan**  \n",
    "1. Objectives\n",
    "2. Remember to...\n",
    "3. Important formal requirement\n",
    "4. Question hints\n"
   ]
  },
  {
   "cell_type": "markdown",
   "id": "59643d23-3839-4608-9f07-b87a0123ab50",
   "metadata": {
    "slideshow": {
     "slide_type": "slide"
    }
   },
   "source": [
    "## Objectives\n",
    "* Apply simple numerical solution and simulation methods\n",
    "    * Solve the problem using SciPy and numpy\n",
    "* Structure a code project\n",
    "    * Notebook, .py-files, readme etc.\n",
    "* Document code\n",
    "    * Document and explain your code using what you learned in **lecture 5**\n",
    "* Present results in text form and in figures\n",
    "    * Create nice tables and figures + create nice markdown cells"
   ]
  },
  {
   "cell_type": "markdown",
   "id": "5a9483f0-05da-4a3d-9b94-1c7d97028930",
   "metadata": {
    "slideshow": {
     "slide_type": "slide"
    },
    "tags": []
   },
   "source": [
    "## Remember (general hint) (1/4)\n",
    "Create a python-file for your functions  \n",
    "**Remember** autoreload"
   ]
  },
  {
   "cell_type": "code",
   "execution_count": 1,
   "id": "5def89af-8cd5-4260-a438-65463ea40748",
   "metadata": {
    "slideshow": {
     "slide_type": "fragment"
    }
   },
   "outputs": [],
   "source": [
    "import pythonfile as py\n",
    "\n",
    "%load_ext autoreload\n",
    "%autoreload 2\n",
    "\n",
    "\n"
   ]
  },
  {
   "cell_type": "markdown",
   "id": "76e18edf-4073-4dd7-9b9f-604e8fc55009",
   "metadata": {
    "slideshow": {
     "slide_type": "slide"
    }
   },
   "source": [
    "## Remember (general hint) (2/4)\n",
    "Document your code - at the exam you might have forgotten what you did and why"
   ]
  },
  {
   "cell_type": "code",
   "execution_count": 2,
   "id": "3fc5ca1a-dfb7-48a4-b296-2d36bc18c613",
   "metadata": {
    "slideshow": {
     "slide_type": "fragment"
    }
   },
   "outputs": [
    {
     "name": "stdout",
     "output_type": "stream",
     "text": [
      "u(1,psi=-10.00)=-0.11\n",
      "u(1,psi=-8.75)=-0.13\n",
      "u(1,psi=-7.50)=-0.15\n",
      "u(1,psi=-6.25)=-0.19\n",
      "u(1,psi=-5.00)=-0.25\n"
     ]
    }
   ],
   "source": [
    "import numpy as np\n",
    "\n",
    "# 1. Initiliaze vectors of goods and container for utilities\n",
    "psis = np.linspace(-10, -5, 5)\n",
    "utility = np.empty((psis.shape)) # empty array with same shape as psi's\n",
    "\n",
    "# 2. Calculate utility for all psis (relative risk aversion parameter\n",
    "for i, psi in enumerate(psis):\n",
    "    # i. Calculate utility using functions module\n",
    "    u_psi = py.utility(1,psi)\n",
    "    \n",
    "    # ii. store the utility at the respective place (i)\n",
    "    utility[i] = u_psi\n",
    "    \n",
    "    # iii. print result\n",
    "    print(f'u(1,psi={psi:.2f})={u_psi:.2f}')\n",
    "    \n",
    "    "
   ]
  },
  {
   "cell_type": "markdown",
   "id": "22e3ec4b-3de3-4856-b16e-cac99c0ce507",
   "metadata": {
    "slideshow": {
     "slide_type": "slide"
    }
   },
   "source": [
    "## Remember (general hint) (3/4)  \n",
    "\n",
    "Incoporate markdown cells in your project that describes the model, intuition, etc.  \n",
    "Remember you do can do equation in markdown using either LaTeX syntax, `$$ math $$`:\n",
    "$$ y_i = \\beta_0 + \\beta_1 x_i + \\epsilon_i $$  \n",
    "or `\\begin{equation} math \\end{equation}`  \n",
    "\\begin{align} y_i = \\beta_0 + \\beta_1 x_i + \\epsilon_i \\end{align}  \n",
    "\n",
    "Other formatting?\n",
    "* An indent followed by `*` or `1.` creates list\n",
    "    1. list item 1\n",
    "    2. list item 2\n",
    "    * list item 3\n",
    "* `** text **` produces **text**\n",
    "* `*text*` produces *text*\n",
    "* `#` creates a large header, `##` smaller header and so on\n",
    "* Google it!"
   ]
  },
  {
   "cell_type": "markdown",
   "id": "0645106d-e4b7-4542-8331-062c635c4600",
   "metadata": {
    "slideshow": {
     "slide_type": "slide"
    }
   },
   "source": [
    "## Remember (general hint) (4/4)\n",
    "**Always** add docstrings to your functions.\n",
    "The function name in itself isn't always as informal as you'd want"
   ]
  },
  {
   "cell_type": "code",
   "execution_count": null,
   "id": "27cdba35-2d49-4cbb-b1ca-b8f3f45c60b5",
   "metadata": {
    "slideshow": {
     "slide_type": "fragment"
    }
   },
   "outputs": [],
   "source": [
    "def utility(z,psi):\n",
    "    \"\"\" Calculates utility of given some assets, z, and relative risk aversion, psi.\n",
    "\n",
    "    Args:\n",
    "    z (float): the agents assets\n",
    "    psi (float): the agents relative risk aversion\n",
    "\n",
    "    Returns:\n",
    "    (float): utility of assets\n",
    "    \"\"\"\n",
    "    return (z**(1+psi))/(1+psi)\n",
    "\n"
   ]
  },
  {
   "cell_type": "markdown",
   "id": "830f9f25-a646-46f9-abad-913a91aa66ae",
   "metadata": {
    "slideshow": {
     "slide_type": "slide"
    }
   },
   "source": [
    "## Important requirement!\n",
    "\n",
    "**ALLWAYS** restart your *kernel* and *run all cells* **before** handing in! This goes for the mandatory assignments along with the exam. It is crucial!\n",
    "\n",
    "If you have crucual old variables in memory that makes your notebook run, then i cannot run your notebook!!  \n",
    "\n",
    "**Red flag** if the notebook can't be run from start to end!!"
   ]
  },
  {
   "cell_type": "markdown",
   "id": "480f0e28-a5c8-452c-96ae-e913f5c75f99",
   "metadata": {
    "slideshow": {
     "slide_type": "slide"
    }
   },
   "source": [
    "## Getting an insurance\n",
    "\n",
    "Uninsured agents expected utility:\n",
    "<p style=\"text-align: center;\">$V_0 = pu(y-x)+(1-p)u(y)$</p>\n",
    "Insured agent expected utility:\n",
    "<p style=\"text-align: center;\">$V(q;\\pi)=pu(y-x+q-\\pi(p,q))+(1-p)u(y-\\pi(p,q))$</p>\n",
    "Insurance company requires premium (in order to not go broke):\n",
    "<p style=\"text-align: center;\">$\\pi(p,q) = pq$</p>\n",
    "Agents utility given by:\n",
    "<p style=\"text-align: center;\">$u(z) = \\frac{z^{1+\\psi}}{1+\\psi}$</p>\n",
    "Parameters are:\n",
    "<p style=\"text-align: center;\">$y=1, p = 0.2, \\psi = -2$</p>"
   ]
  },
  {
   "cell_type": "markdown",
   "id": "8d101fa8-9c84-44cb-a865-9f2883cf4d88",
   "metadata": {
    "slideshow": {
     "slide_type": "slide"
    },
    "tags": []
   },
   "source": [
    "## Hints for question 1\n",
    "Once the *utility function*, *insurance premium* and the *insured agents expected utility* has been defined, we're ready to solve **question 1**. \n",
    "\n",
    "Find optimal coverage, $q^*$, for $x$ in range $[0.01,0.9]$:\n",
    "<p style=\"text-align: center;\">$q^\\ast = \\underset{q\\in[0,x]}{\\operatorname{argmax}} V(q;\\pi)$</p>\n",
    "\n",
    "\n",
    "1.  create `x` array in range `[0.01,0.9]` and an empty array for optimal `q's` to be stored.  \n",
    "2.  Loop over `x's` where you define an ojective function for each `x`.   \n",
    "      * You can solve the objective function using the `minimize_scalar` funtion and store $q^*(x)$\n",
    "      * Remember that $q\\in[0,x]$ which means your solver should be **bounded**  \n",
    "      * Remember remember that we're maximizing (-minimize)\n",
    "    \n",
    "\n",
    "Plot the `x` and `q` arrays and comment!\n"
   ]
  },
  {
   "cell_type": "markdown",
   "id": "0e196daa-dec7-49fc-a9e2-1f3c95d8d514",
   "metadata": {
    "slideshow": {
     "slide_type": "slide"
    }
   },
   "source": [
    "## Hints for question 2:\n",
    "Find $\\tilde{\\pi}$ such that $V(q;\\tilde{\\pi})=V_0$ at each point in $q$-array. \n",
    "1. Construct $q$ and (empty) $\\pi$-array\n",
    "2. Create new objective function $V(q;\\tilde{\\pi})=V_0\\rightarrow V(q;\\tilde{\\pi})-V_0=0$  \n",
    "3. Loop through the $q$'s \n",
    "    * Can use `optimize.root` (solves objective function = 0) **seen in lecture 3**\n",
    "    * store results in $\\pi$-array\n",
    "4. plot $q$ and $\\pi$-array and comment!"
   ]
  },
  {
   "cell_type": "markdown",
   "id": "1ce1db3d-723e-4551-af90-0977772939c1",
   "metadata": {
    "slideshow": {
     "slide_type": "slide"
    }
   },
   "source": [
    "## Hints for question 3:\n",
    "Create a function for Monte Carlo integration - **seen in lecture 4**.  \n",
    "You can advantageously use two different `SimpleNamespace()`  \n",
    "One for model parameters and the other for different policy parameters"
   ]
  },
  {
   "cell_type": "markdown",
   "id": "998ee497-3b85-4b22-a8be-dd899778f4d5",
   "metadata": {
    "slideshow": {
     "slide_type": "slide"
    }
   },
   "source": [
    "## Hints for question 4:  \n",
    "Define new objective function (MC under no coverage - MC under coverage)  \n",
    "Solve the objective function using `optimize.root` with `method='broyden1'`"
   ]
  }
 ],
 "metadata": {
  "celltoolbar": "Slideshow",
  "kernelspec": {
   "display_name": "Python 3 (ipykernel)",
   "language": "python",
   "name": "python3"
  },
  "language_info": {
   "codemirror_mode": {
    "name": "ipython",
    "version": 3
   },
   "file_extension": ".py",
   "mimetype": "text/x-python",
   "name": "python",
   "nbconvert_exporter": "python",
   "pygments_lexer": "ipython3",
   "version": "3.8.12"
  }
 },
 "nbformat": 4,
 "nbformat_minor": 5
}
