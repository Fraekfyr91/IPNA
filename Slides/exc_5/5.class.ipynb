{
 "cells": [
  {
   "cell_type": "markdown",
   "id": "87a36d16-6c94-4130-8e72-c2b67338e9f7",
   "metadata": {
    "slideshow": {
     "slide_type": "slide"
    }
   },
   "source": [
    "\n",
    "# <span style=\"color:#2c061f\"> PS2: RNG, interactive plots and Walras equilibrium </span>  \n",
    "\n",
    "<br>\n",
    "\n",
    "## <span style=\"color:#374045\"> Introduction to Programming and Numerical Analysis </span>\n",
    "*Oluf Kelkjær*\n",
    "\n",
    "### **Today's Plan**  \n",
    "1. Kernel  \n",
    "2. Random number generating\n",
    "3. Interactive plots\n",
    "4. Walras equilibrium"
   ]
  },
  {
   "cell_type": "markdown",
   "id": "5a9483f0-05da-4a3d-9b94-1c7d97028930",
   "metadata": {
    "slideshow": {
     "slide_type": "slide"
    },
    "tags": []
   },
   "source": [
    "## Kernel  \n",
    "In order to run a notebook Jupyter relies on a *kernel*. \n",
    "A Kernel is essentially a *Python interpreter* in which variables and functions are stored.  \n",
    "\n",
    "It's a good idea to restart the kernel every now and then in order to clear the memory. **Why?**"
   ]
  },
  {
   "cell_type": "code",
   "execution_count": 8,
   "id": "5def89af-8cd5-4260-a438-65463ea40748",
   "metadata": {
    "slideshow": {
     "slide_type": "fragment"
    }
   },
   "outputs": [
    {
     "name": "stdout",
     "output_type": "stream",
     "text": [
      "20\n"
     ]
    }
   ],
   "source": [
    "# define a global variable \n",
    "a=2\n",
    "# simple function\n",
    "def f(Z):\n",
    "    Y=Z*2\n",
    "    return Y\n",
    "print(f(Z))\n",
    "\n"
   ]
  },
  {
   "cell_type": "markdown",
   "id": "22e3ec4b-3de3-4856-b16e-cac99c0ce507",
   "metadata": {
    "slideshow": {
     "slide_type": "slide"
    }
   },
   "source": [
    "## kernel continued  \n",
    "You may have written an infinite `while`-loop with no `break` statement. In this case you need to interrupt the kernel. Unfortunately, no shortcut exists. Therefore, navigate to either *interrupt* or *restart kernel*. "
   ]
  },
  {
   "cell_type": "markdown",
   "id": "1d69f114-1f2c-4427-bb84-f9cb05d311dc",
   "metadata": {
    "slideshow": {
     "slide_type": "slide"
    }
   },
   "source": [
    "## Random number generating  \n",
    "You will work with 2 packages for RNG\n",
    "* `numpy` useful when drawing **heterogeneous preferences** following some distribution.  \n",
    "   E.g `alphas = np.random.normal(loc=mu,scale=sigma,size=N)`  \n",
    "   \n",
    "   \n",
    "* `scipy.stats` built on numpy. Neat when you want a random number generator object  \n",
    "   E.g `F = norm(loc=mu,scale=sigma)` where the density at `x` is:`F.pdf(x)`.\n",
    "\n",
    "**Note**: remember to set a **seed** for replicability, `np.random.seed(1986)`.  "
   ]
  },
  {
   "cell_type": "markdown",
   "id": "244ee778-6177-4d03-b0e2-d03671de1d79",
   "metadata": {
    "slideshow": {
     "slide_type": "slide"
    }
   },
   "source": [
    "## Interactive figures  \n",
    "Many include these in their data-project!  \n",
    "\n",
    "Can create **sliders**, **textbox**, **checkbox** and **dropdown menu**  \n",
    "\n",
    "Requirements:\n",
    "1. Define figure as a **function** of inputs\n",
    "2. Interactive figures are based on that function where you (interactable) **let inputs vary**  \n",
    "   The rest of the inputs (non-interactable) you need to define as **fixed**\n"
   ]
  },
  {
   "cell_type": "code",
   "execution_count": 10,
   "id": "f55b504b-9492-4f1c-aad3-6e1cdfb90d8c",
   "metadata": {
    "slideshow": {
     "slide_type": "slide"
    }
   },
   "outputs": [],
   "source": [
    "%matplotlib inline\n",
    "import matplotlib.pyplot as plt\n",
    "from scipy.stats import expon\n",
    "import numpy as np\n",
    "\n",
    "# 1 defining figure as function of inputs # This is how plot should look given the inputs\n",
    "def fitting_exponential(X_draws,beta_guess,legend=False):\n",
    "    \n",
    "    # i. exponential distribution based on beta guess\n",
    "    F = expon(scale = beta_guess) \n",
    "    \n",
    "    # ii. x-values\n",
    "    x_low = F.ppf(0.001) # returns the x of 0.1 percentile (x value where cdf is 0.001: ppf = inverse(cdf))\n",
    "    x_high = F.ppf(0.999) # returns the x of 99.9 percentile\n",
    "    x = np.linspace(x_low,x_high,100)\n",
    "\n",
    "    # iii. figure\n",
    "    fig = plt.figure(dpi=100) # dots-per-inch (think pixels)\n",
    "    ax = fig.add_subplot(1,1,1)\n",
    "    # plot based on beta_guess\n",
    "    ax.plot(x,F.pdf(x),lw=2, label = 'density of guess') # probability density function - call F to evaluate density at X\n",
    "    # histogram of actual drawn data\n",
    "    ax.hist(X_draws,bins=100,density=True,histtype='stepfilled', label = 'actual data')\n",
    "    ax.set_ylim([0,0.5])\n",
    "    ax.set_xlim([0.01,10])\n",
    "    if legend == True:\n",
    "        ax.legend()\n",
    "        \n",
    "        "
   ]
  },
  {
   "cell_type": "code",
   "execution_count": 11,
   "id": "0e03a475-071a-4dfd-ae2e-28fa4c9a3cca",
   "metadata": {
    "slideshow": {
     "slide_type": "slide"
    }
   },
   "outputs": [
    {
     "data": {
      "application/vnd.jupyter.widget-view+json": {
       "model_id": "a68140a676dc4f0087e0bcad958c45fb",
       "version_major": 2,
       "version_minor": 0
      },
      "text/plain": [
       "interactive(children=(FloatSlider(value=3.0, description='guess of beta', max=6.0, min=0.1, step=0.05), Checkb…"
      ]
     },
     "metadata": {},
     "output_type": "display_data"
    }
   ],
   "source": [
    "beta_true = 2\n",
    "# draw from exponential distribution based on true beta\n",
    "X = np.random.exponential(beta_true,size=10**6)\n",
    "\n",
    "import ipywidgets as widgets\n",
    "# create interactive figure based on plot-function\n",
    "widgets.interact(fitting_exponential,\n",
    "    X_draws=widgets.fixed(X),\n",
    "    beta_guess=widgets.FloatSlider(description=\"guess of beta\", min=0.1, max=6, step=0.05, value=3),\n",
    "    legend = widgets.Checkbox(False, description = 'legend')\n",
    ");\n",
    "\n"
   ]
  },
  {
   "cell_type": "code",
   "execution_count": null,
   "id": "cb97936e-017f-4b0f-a0e2-8d2883d55aad",
   "metadata": {
    "slideshow": {
     "slide_type": "skip"
    }
   },
   "outputs": [],
   "source": [
    "from scipy.stats import norm\n",
    "F = norm(loc=0,scale=2)\n",
    "\n",
    "print(f'Density at x=0: {F.pdf(0):.3f}')\n",
    "print(f'x-value where cummulative distribution is 0.5 = {F.ppf(0.5):.3f}')"
   ]
  },
  {
   "cell_type": "markdown",
   "id": "17e9b6e7-2a51-46b0-9f75-c98a0a013cc7",
   "metadata": {
    "slideshow": {
     "slide_type": "slide"
    }
   },
   "source": [
    "## Walras equilibrium  \n",
    "In *lecture 4* agents exhibitted **heterogeneous preferences** but *homogeneous endownment*.  \n",
    "Today you face an exchange economy where (N) agents exhibit **heterogeneous preferences** and **heterogeneous endownments**.\n",
    "* *preferences* follow some transformation of a **normal distribution** `np.random.normal(loc,scale,size=N)`\n",
    "* *endownments* follow an **exponential distribution** `np.random.exponential(beta,size=N)`"
   ]
  },
  {
   "cell_type": "code",
   "execution_count": 13,
   "id": "f2451ebe-1e7a-4eef-b80f-778e3fb896dc",
   "metadata": {
    "jupyter": {
     "outputs_hidden": true
    },
    "slideshow": {
     "slide_type": "skip"
    },
    "tags": []
   },
   "outputs": [
    {
     "data": {
      "image/png": "[encoded data removed]",
      "text/plain": [
       "<Figure size 600x400 with 2 Axes>"
      ]
     },
     "metadata": {
      "needs_background": "light"
     },
     "output_type": "display_data"
    }
   ],
   "source": [
    "import numpy as np\n",
    "import matplotlib.pyplot as plt\n",
    "from scipy.stats import norm\n",
    "\n",
    "F = norm(loc=0,scale=2)\n",
    "x_low = F.ppf(0.001) # returns the x of 0.1 quantile (x value where cdf is 0.001)\n",
    "x_high = F.ppf(0.999) # returns the x of 99.9 quantile\n",
    "x = np.linspace(x_low,x_high,100)\n",
    "\n",
    "fig = plt.figure(dpi=100) # dots-per-inch (think pixels)\n",
    "ax1 = fig.add_subplot(1,1,1)\n",
    "ax2 = ax1.twinx()\n",
    "ax1.plot(x,F.pdf(x),lw=2, label = 'Density function') # probability density function - call F to evaluate density at X\n",
    "ax2.plot(x,F.cdf(x),lw=2, label = 'cdf (rhs)', color = 'red')\n",
    "ax1.legend(loc = 'upper left')\n",
    "ax2.legend(loc = 'center left');\n",
    "plt.savefig('density_cdf.png')"
   ]
  }
 ],
 "metadata": {
  "celltoolbar": "Slideshow",
  "kernelspec": {
   "display_name": "Python 3 (ipykernel)",
   "language": "python",
   "name": "python3"
  },
  "language_info": {
   "codemirror_mode": {
    "name": "ipython",
    "version": 3
   },
   "file_extension": ".py",
   "mimetype": "text/x-python",
   "name": "python",
   "nbconvert_exporter": "python",
   "pygments_lexer": "ipython3",
   "version": "3.8.12"
  }
 },
 "nbformat": 4,
 "nbformat_minor": 5
}
