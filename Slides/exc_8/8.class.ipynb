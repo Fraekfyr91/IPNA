{
 "cells": [
  {
   "cell_type": "markdown",
   "id": "87a36d16-6c94-4130-8e72-c2b67338e9f7",
   "metadata": {
    "slideshow": {
     "slide_type": "slide"
    }
   },
   "source": [
    "<img src=\"ku_logo_uk_v.png\" alt=\"drawing\" width=\"130\" style=\"float:right\"/>\n",
    "\n",
    "# <span style=\"color:#2c061f\"> Problem Set 4: Analyzing data</span>  \n",
    "\n",
    "<br>\n",
    "\n",
    "## <span style=\"color:#374045\"> Introduction to Programming and Numerical Analysis </span>\n",
    "*Oluf Kelkjær*\n",
    "\n",
    "### **Today's Plan**  \n",
    "1. Peer Feedback\n",
    "2. Todays Problem Set\n",
    "3. Data Project"
   ]
  },
  {
   "cell_type": "markdown",
   "id": "683cd7f9-8554-44a4-84a8-c8e6c367379a",
   "metadata": {
    "slideshow": {
     "slide_type": "slide"
    }
   },
   "source": [
    "## Peer feedback  \n",
    "The groups which you should give group-feedback, is in git `.\\lectures-2022\\projects\\[...].xlsx`  \n",
    "**Deadline**: 3th april 23:59 - spend **MAX** 90 minutes.  \n",
    "\n",
    "**Procedure**:  \n",
    "* Locate the repsective groups repo\n",
    "* Clone and run their project in Jyputer Lab\n",
    "* Open up an issue on their github project folder repo\n",
    "    - Fill in feedback\n",
    "\n",
    "Remember to keep a good tone :)  \n",
    "\n",
    "You will receive **feedback from me** before next tuesday."
   ]
  },
  {
   "cell_type": "markdown",
   "id": "d257fb3a-dc5c-4d3c-a862-8dbb7ad3481f",
   "metadata": {
    "slideshow": {
     "slide_type": "slide"
    },
    "tags": []
   },
   "source": [
    "## Today's Problem Set  \n",
    "You're mainly gonna deal with data from an API-data-reader.  \n",
    "We're working in `pandas` and `pydst`.  \n",
    "\n",
    "**Remember** to install `pydst`: `!pip install git+https://github.com/elben10/pydst`  \n",
    "For the dataproject you're gonna use `pandas` - get comfortable!  "
   ]
  },
  {
   "cell_type": "markdown",
   "id": "a4e2d39b-5298-470b-977f-aa6198ef7e0a",
   "metadata": {
    "slideshow": {
     "slide_type": "slide"
    },
    "tags": []
   },
   "source": [
    "## Data Project  \n",
    "Project description is live on Git.  \n",
    "**Deadline**: 17th of april.  \n",
    "\n",
    "**Make a report that tells a story in numbers and graphs about an economic phenomenon or trend**  \n",
    "* Find some subject of your choosing (*in some economic context*).  \n",
    "* Use data from some online source (*using API (show of skill) or through basic downloading*)  \n",
    "* Present data visually (*interactively?*) and in text (*descriptive economics*)  \n",
    "\n",
    "**Topic examples:**  \n",
    "* Unemployment (during covid)\n",
    "  - by country\n",
    "  - by occupation\n",
    "* Public spending (during covid)\n",
    "  - by country\n",
    "  - by occupation\n",
    "* Financial data (during covid)\n",
    "  - equity performance"
   ]
  },
  {
   "cell_type": "markdown",
   "id": "762be264-c3ca-4079-af6f-40cc7d435458",
   "metadata": {
    "slideshow": {
     "slide_type": "slide"
    }
   },
   "source": [
    "### Data Sources\n",
    "\n",
    "* `pandas_datareader` (mostly financial data) - see **lecture 8**\n",
    "* `pydst` everything you can find on dst.dk  \n",
    "* List of API: https://apilist.fun/  \n",
    "* List of API's: https://github.com/public-apis/public-apis  \n",
    "* List of open data: https://github.com/collections/open-data  \n",
    "* Google mobility data: https://www.google.com/covid19/mobility/  \n",
    "* research data: https://datasetsearch.research.google.com/\n",
    "* Your job"
   ]
  },
  {
   "cell_type": "markdown",
   "id": "f1af742a-7293-4602-981f-c07506df6564",
   "metadata": {
    "slideshow": {
     "slide_type": "slide"
    }
   },
   "source": [
    "### What is an API?  \n",
    "An API is an interface through which we can directly ask for and receive data from an online source.  \n",
    "\n",
    "For example when you use `pydst`, the API makes sure that your **data-request** reaches *DST-servers* and that DST-servers send **readable data** back as requested.  \n",
    "\n",
    "An API is smart because you can **automate** tedious data-request (you would otherwise have done manually).  \n",
    "Great for large amounts of data or when data is needed continuously (*week after week/day after day*)."
   ]
  }
 ],
 "metadata": {
  "celltoolbar": "Slideshow",
  "kernelspec": {
   "display_name": "Python 3 (ipykernel)",
   "language": "python",
   "name": "python3"
  },
  "language_info": {
   "codemirror_mode": {
    "name": "ipython",
    "version": 3
   },
   "file_extension": ".py",
   "mimetype": "text/x-python",
   "name": "python",
   "nbconvert_exporter": "python",
   "pygments_lexer": "ipython3",
   "version": "3.10.2"
  }
 },
 "nbformat": 4,
 "nbformat_minor": 5
}
