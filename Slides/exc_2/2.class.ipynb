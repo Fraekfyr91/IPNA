{
 "cells": [
  {
   "cell_type": "markdown",
   "id": "ab5999cb-346e-45b6-94ff-a163b273a2da",
   "metadata": {
    "slideshow": {
     "slide_type": "slide"
    }
   },
   "source": [
    "<img src=\"ku_logo_uk_v.png\" alt=\"drawing\" width=\"130\" style=\"float:right\"/>\n",
    "\n",
    "# <span style=\"color:#2c061f\"> 2. excercise class (DataCamp) </span>  \n",
    "\n",
    "<br>\n",
    "\n",
    "## <span style=\"color:#374045\"> Introduction to Programming and Numerical Analysis </span>\n",
    "*Oluf Kelkjær*  \n",
    "\n",
    "### **Today's Plan**  \n",
    "1. DataCamp is up  \n",
    "2. JupyterLab  \n",
    "3. Top 5 Git commands  \n",
    "4. VSCode"
   ]
  },
  {
   "cell_type": "markdown",
   "id": "a9256618-4ae7-4034-a2b0-db9db7d4eb45",
   "metadata": {
    "slideshow": {
     "slide_type": "slide"
    },
    "tags": []
   },
   "source": [
    "### **JupyterLab**  \n",
    "The **Terminal** (Anaconda prompt) is the direct way of **communicating** with your **computer**.  \n",
    "Terminal is used to install packages such as `pandas`, `numpy` and `matplotlib` as well as running JupyterLab.  \n",
    "\n",
    "You've seen it before - [JupyterLab guide](https://numeconcopenhagen.netlify.app/guides/jupyterlab/)  \n",
    "\n",
    "Favorite shortcuts:  \n",
    "* **Run cell and advance:** <kbd>Shift</kbd>+<kbd>Enter</kbd>  \n",
    "* **Run cell**: <kbd>Ctrl</kbd>+<kbd>Enter</kbd>  \n",
    "* **Create cell below**: <kbd>B</kbd>  \n",
    "* **Create cell above**: <kbd>A</kbd>  \n",
    "* **Delete cell**: <kbd>D</kbd>+<kbd>D</kbd>  "
   ]
  },
  {
   "cell_type": "markdown",
   "id": "95c1867c-d5ed-429a-bc8b-f63bd7dc85bf",
   "metadata": {
    "slideshow": {
     "slide_type": "slide"
    }
   },
   "source": [
    "### **Top 5-ish Git commands**  \n",
    "\n",
    "`git clone URL` clones repository located in a given URL (*one time only*).  \n",
    "\n",
    "`git status` shows you which files are in staging area and which (editted) files are not yet in staging area  \n",
    "\n",
    "`git fetch` lets you **view incomming changes**.  \n",
    "`git pull` lets you **pull (download)** the latest update from the repository.  \n",
    "\n",
    "`git add .` **add** new and modified files to **staging area**.  \n",
    "`git commit -m \"added some cool code\"` will let you **commit changes** with the log message \"some message in quotations\"  \n",
    "\n",
    "`git push` lets you **push (upload)** the lastest local changes to your git *repository*.  \n",
    "\n",
    "**Beware of merge conflicts!**  \n",
    "Don't work on the *same file at the same time* as your buddy!  \n",
    "Merge conflicts can be solved - sometimes very difficult though!\n",
    "**Always** pull the latest changes before making new ones - **notify** your group."
   ]
  },
  {
   "cell_type": "markdown",
   "id": "0b0ba134-db30-4f1b-a457-dc51fa0773f5",
   "metadata": {
    "slideshow": {
     "slide_type": "slide"
    }
   },
   "source": [
    "### **VSCode**\n",
    "*Almost* anything that **JupyterLab** does, **VSCode** can do as well.  \n",
    "  \n",
    "VSCode however has some additional cool features:  \n",
    "* Syntax highlighting\n",
    "* Code completion and highlighting\n",
    "* Git and a variable-inspector is part of VSCode  \n",
    "\n",
    "Can be slow though..."
   ]
  },
  {
   "cell_type": "markdown",
   "id": "650fe8bc-c8c0-4a98-8e0c-f2ca7409033c",
   "metadata": {
    "slideshow": {
     "slide_type": "slide"
    }
   },
   "source": [
    "**Excercise Plan**  (*tentative*)  \n",
    "1. DataCamp  \n",
    "2. **DataCamp**\n",
    "3. DataCamp\n",
    "4. Problem Set 1: Solving the consumer problem\n",
    "5. Problem Set 2: Finding the Walras equilibrium in a multi-agent economy \n",
    "6. Work on your inaugural project\n",
    "7. Problem Set 3: Loading and combining data from Denmark Statistics \n",
    "8. Problem Set 4: Analyzing data\n",
    "9. Work on your data project\n",
    "10. Problem Set 5: Writing your own searching and sorting algorithms \n",
    "11. Problem Set 6: Solving the Solow model\n",
    "12. Problem Set 7: Solving the consumer problem with income risk \n",
    "13. Work on your model analysis project\n",
    "14. Work on your model analysis project \n",
    "15. Feedback on model project\n",
    "\n",
    "**Deadline for DataCamp is 27/2-22**"
   ]
  },
  {
   "cell_type": "markdown",
   "id": "c552f89d",
   "metadata": {
    "slideshow": {
     "slide_type": "slide"
    }
   },
   "source": [
    "Have Git not asked for your GitHub credentials yet?  \n",
    "In Anaconda (Windows) or terminal (Mac):  \n",
    "`git config --list` check that username and email is correct.\n",
    "\n",
    "\n",
    "If not:  \n",
    "`git config --global user.name \"JensHansen\"`  \n",
    "and/or  \n",
    "`git config --global user.email jenshansen@mail.com`"
   ]
  }
 ],
 "metadata": {
  "celltoolbar": "Slideshow",
  "kernelspec": {
   "display_name": "Python 3 (ipykernel)",
   "language": "python",
   "name": "python3"
  },
  "language_info": {
   "codemirror_mode": {
    "name": "ipython",
    "version": 3
   },
   "file_extension": ".py",
   "mimetype": "text/x-python",
   "name": "python",
   "nbconvert_exporter": "python",
   "pygments_lexer": "ipython3",
   "version": "3.9.7"
  }
 },
 "nbformat": 4,
 "nbformat_minor": 5
}
