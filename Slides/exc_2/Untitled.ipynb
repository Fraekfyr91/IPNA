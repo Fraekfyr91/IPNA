{
 "cells": [
  {
   "cell_type": "code",
   "execution_count": 1,
   "id": "ffbcc596-1e1d-4f78-b90b-b66ae192f059",
   "metadata": {},
   "outputs": [],
   "source": [
    "a = 3\n",
    "b = 9"
   ]
  },
  {
   "cell_type": "code",
   "execution_count": 2,
   "id": "d39a7133-1a20-4040-9295-93941c9952d5",
   "metadata": {},
   "outputs": [
    {
     "data": {
      "text/plain": [
       "9"
      ]
     },
     "execution_count": 2,
     "metadata": {},
     "output_type": "execute_result"
    }
   ],
   "source": [
    "def squared(x):\n",
    "    x2 = x**2\n",
    "    return x2\n",
    "squared(a)"
   ]
  }
 ],
 "metadata": {
  "kernelspec": {
   "display_name": "Python 3 (ipykernel)",
   "language": "python",
   "name": "python3"
  },
  "language_info": {
   "codemirror_mode": {
    "name": "ipython",
    "version": 3
   },
   "file_extension": ".py",
   "mimetype": "text/x-python",
   "name": "python",
   "nbconvert_exporter": "python",
   "pygments_lexer": "ipython3",
   "version": "3.8.12"
  }
 },
 "nbformat": 4,
 "nbformat_minor": 5
}
