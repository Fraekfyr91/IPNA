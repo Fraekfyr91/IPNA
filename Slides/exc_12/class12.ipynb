{
 "cells": [
  {
   "cell_type": "markdown",
   "id": "warming-forwarding",
   "metadata": {
    "slideshow": {
     "slide_type": "slide"
    }
   },
   "source": [
    "<img src=\"ku_logo_uk_v.png\" alt=\"drawing\" width=\"130\" style=\"float:right\"/>\n",
    "\n",
    "# <span style=\"color:#2c061f\"> PS7: Solving the consumer problem with income risk</span>  \n",
    "\n",
    "<br>\n",
    "\n",
    "## <span style=\"color:#374045\"> Introduction to Programming and Numerical Analysis </span>\n",
    "*Oluf Kelkjær*\n",
    "\n",
    "### **Today's Plan**  \n",
    "1. Status\n",
    "2. Problem Set 7\n",
    "    - **Optimizing** convex and non-convex functions\n",
    "    - **Dynamic model**\n",
    "3. Let's go :)"
   ]
  },
  {
   "cell_type": "markdown",
   "id": "7390bef4-2a92-45a6-9859-63bca6aff18a",
   "metadata": {
    "slideshow": {
     "slide_type": "slide"
    }
   },
   "source": [
    "## Status\n",
    "You should all have received feedback from you data projects.  \n",
    "Let me know if you have any questions or want something elaborated\n",
    " \n",
    "Remaining excercise class plan  \n",
    "* **Problem Set 7: Solving the consumer problem with income risk**  \n",
    "* Work on your model project  \n",
    "* Work on your model project  \n",
    "* Feedback on model project/Q&A?"
   ]
  },
  {
   "cell_type": "markdown",
   "id": "common-istanbul",
   "metadata": {
    "slideshow": {
     "slide_type": "slide"
    }
   },
   "source": [
    "## Problem Set 7 (optimizing)\n",
    "\n",
    "Do yourself a favor and have lecture 11 open while solving this problem set :)  \n",
    "\n",
    "First part deals with evaluating different **optimization** methods under convex and non-convex (noisy) objective functions.  \n",
    "Specifically you are going to deal with:  \n",
    "* Nelder-mead (*robust to noise in objective function*)  \n",
    "* BFGS and Newton-CG (*quick and precise on smooth objective functions*)  \n",
    "\n",
    "The **takeaway** is that under a *noisy objective function*, which has **local minimas**, you are not guaranteed to converge to the **global minimum**. The initial guess has great importance and a **multistart** optimization could be appropriate. "
   ]
  },
  {
   "cell_type": "markdown",
   "id": "73e5bec0-de7a-47c2-bf7a-c935d1a72a5a",
   "metadata": {
    "slideshow": {
     "slide_type": "slide"
    }
   },
   "source": [
    "## Problem Set 7 (Dynamic problem)\n",
    "Second part deals with a **dynamic model**.  \n",
    "In the exam of 2020 and 2021 you should solve a dynamic model.  \n",
    "From my experience doing the second part of PS7, is a very good investment of time!  \n",
    "\n",
    "\n",
    "Dynamic 2-period problem:  \n",
    "\\begin{aligned}\n",
    "v_{1}(m_{1}) & = \n",
    "\\max_{c_{1}}\\frac{c_{1}^{1-\\rho}}{1-\\rho}+\\beta\\mathbb{E}_{1}\\left[v_2(m_2)\\right]\\\\\n",
    "m_2 &= (1+r)(m_{1}-c_{1})+y_{2} \\\\\n",
    "y_{2} &= \\begin{cases}\n",
    "1-\\Delta & \\text{with prob. }0.5\\\\\n",
    "1+\\Delta & \\text{with prob. }0.5 \n",
    "\\end{cases}\\\\\n",
    "v_{2}(m_{2}) &= \\max_{c_{2}}\\frac{c_{2}^{1-\\rho}}{1-\\rho}+\\nu\\frac{(m_{2}-c_{2}+\\kappa)^{1-\\rho}}{1-\\rho} \\\\\n",
    "\\end{aligned}\n",
    "\n",
    "The agents derive utility from **consumption** but also leaving a **bequest**.  \n",
    "Consumption decisions in period 2, $c_2$, relies on cash on hands in period 2, $m_2$, as well as (uncertain) income, $m_2 = (1+r)(m_1-c_1)+y_2)$.  \n",
    "In period 2, the spending decisions is tied to the amount of cash-on-hand, $m_2$. Cash-on-hand in period 2 relies on the leftover asset from period 1, $m_1-c_1$.  \n",
    "The consumer should take this into account when making spending decisions in period 1!  \n",
    "\n",
    "One effective way of solving the model is *backwards*. Solve $v_{2}(m_{2})$ for a finite $m_2$-grid and then solve $v_{1}(m_{1})$ with *interpolated* $v_{2}(m_{2})$-function as input."
   ]
  },
  {
   "cell_type": "markdown",
   "id": "b22e25c6",
   "metadata": {
    "slideshow": {
     "slide_type": "slide"
    }
   },
   "source": [
    "Think of **interpolation** as approximating the function from a finite set of points, .e.g:"
   ]
  },
  {
   "cell_type": "markdown",
   "id": "68227fec-4e31-4464-8045-d9dcb102e8f5",
   "metadata": {
    "slideshow": {
     "slide_type": "fragment"
    }
   },
   "source": [
    "\n",
    "<img src=\"linear_interpolation.png\" alt=\"drawing\" width=\"1000\"/>"
   ]
  },
  {
   "cell_type": "markdown",
   "id": "bigger-potential",
   "metadata": {
    "slideshow": {
     "slide_type": "slide"
    }
   },
   "source": [
    "## Lets go! :)"
   ]
  },
  {
   "cell_type": "code",
   "execution_count": 1,
   "id": "853341c5-d413-4cef-9a81-2a39633e7df0",
   "metadata": {
    "slideshow": {
     "slide_type": "notes"
    },
    "tags": []
   },
   "outputs": [
    {
     "data": {
      "image/png": "[encoded data removed]",
      "text/plain": [
       "<Figure size 720x504 with 1 Axes>"
      ]
     },
     "metadata": {
      "needs_background": "light"
     },
     "output_type": "display_data"
    }
   ],
   "source": [
    "import numpy as np\n",
    "import matplotlib.pyplot as plt\n",
    "from scipy import interpolate\n",
    "\n",
    "# function to interpolate\n",
    "f = lambda x: (x-3)**3 - 3*x**2 + 5*x\n",
    "G = np.linspace(-5,10,6) # vector with just 6 points\n",
    "F = f(G) # evaluate function in those 6 points\n",
    "\n",
    "\n",
    "# a. construct interpolation function\n",
    "interp_func = interpolate.RegularGridInterpolator([G],F,\n",
    "                                                  bounds_error=False,\n",
    "                                                  fill_value=None)\n",
    "# b. interpolate based on grid\n",
    "grid = np.linspace(-7,12,500)\n",
    "interp_values = interp_func(grid)\n",
    "\n",
    "# c. evaluate true values\n",
    "true_values = f(grid)\n",
    "\n",
    "# d. plot true and interpolated values\n",
    "fig = plt.figure(figsize = (10,7))\n",
    "ax = fig.add_subplot(1,1,1)\n",
    "ax.plot(G,F,'o',label='known points')\n",
    "ax.plot(grid,true_values,'-',lw=1,label='true function')\n",
    "ax.plot(grid,interp_values,'-',lw=1,label='interpolated values')\n",
    "ax.legend(loc='lower right',facecolor='white',frameon=True);\n",
    "plt.savefig('linear_interpolation.png')"
   ]
  },
  {
   "cell_type": "code",
   "execution_count": 2,
   "id": "a628f556-10d4-44a5-ae24-7346c2ee5972",
   "metadata": {
    "slideshow": {
     "slide_type": "notes"
    }
   },
   "outputs": [
    {
     "ename": "SyntaxError",
     "evalue": "invalid syntax (Temp/ipykernel_100652/1468646221.py, line 1)",
     "output_type": "error",
     "traceback": [
      "\u001b[1;36m  File \u001b[1;32m\"C:\\Users\\45238\\AppData\\Local\\Temp/ipykernel_100652/1468646221.py\"\u001b[1;36m, line \u001b[1;32m1\u001b[0m\n\u001b[1;33m    Jacobian (gradient = first derivative)\u001b[0m\n\u001b[1;37m                               ^\u001b[0m\n\u001b[1;31mSyntaxError\u001b[0m\u001b[1;31m:\u001b[0m invalid syntax\n"
     ]
    }
   ],
   "source": [
    "Jacobian (gradient = first derivative)  \n",
    "Hessian (second derivative)"
   ]
  },
  {
   "cell_type": "code",
   "execution_count": null,
   "id": "beb45c75",
   "metadata": {},
   "outputs": [],
   "source": []
  }
 ],
 "metadata": {
  "celltoolbar": "Slideshow",
  "kernelspec": {
   "display_name": "Python 3 (ipykernel)",
   "language": "python",
   "name": "python3"
  },
  "language_info": {
   "codemirror_mode": {
    "name": "ipython",
    "version": 3
   },
   "file_extension": ".py",
   "mimetype": "text/x-python",
   "name": "python",
   "nbconvert_exporter": "python",
   "pygments_lexer": "ipython3",
   "version": "3.9.7"
  }
 },
 "nbformat": 4,
 "nbformat_minor": 5
}
